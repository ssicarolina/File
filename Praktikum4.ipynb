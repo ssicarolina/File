{
 "cells": [
  {
   "cell_type": "markdown",
   "metadata": {
    "id": "27GJn8MiCs0z"
   },
   "source": [
    "# **Praktikum 4 MA2151 Sikomat 2020**"
   ]
  },
  {
   "cell_type": "markdown",
   "metadata": {
    "id": "gxcZOuBleuQn"
   },
   "source": [
    "Hanya library *random* yang boleh dipakai di praktikum ini. Format keluaran diatur supaya mudah dibaca - usahakan mengikuti standar PEP 8 di https://www.python.org/dev/peps/pep-0008/ ."
   ]
  },
  {
   "cell_type": "markdown",
   "metadata": {
    "id": "sO3JNVj8fbH0"
   },
   "source": [
    "## 1 (Jarak antar Anggota)\n",
    "\n",
    "Diberikan sebuah vektor huruf kapital (vektor yang isinya huruf-huruf) dengan $n$ elemen (dimasukkan pengguna). Buat program Python untuk mencetak angka-angka dengan aturan berikut:\n",
    "\n",
    "* Pada setiap huruf yang\n",
    "berbeda dari vektor tersebut dicetak angka nol. Bila ada dua/lebih huruf yang sama maka huruf\n",
    "kedua/lebih tersebut diganti dengan salah satu digit 1,2,...,9 yang menyatakan jarak/posisi\n",
    "huruf tersebut terhadap huruf sebelumnya yang sama.\n",
    "\n",
    "*Diasumsikan jarak antara dua huruf yang sama tidak melebihi 9*.\n",
    "\n",
    "\n",
    "Contoh masukan: $ \\vec{a} = ('A', 'A', 'B', 'C', 'D', 'B', 'E', 'F', 'F', 'E', 'A', 'B', 'G', 'B', 'W', 'B')$\n",
    "\n",
    "Keluaran: 0100030013960202\n",
    "\n",
    "Penjelasan (tidak perlu di-print): Angka 1 di entri kedua ada karena di entri pertama sudah ada huruf A. Entri kelima berisikan B karena entri sebelumnya yang mengandung B adalah entri kedua."
   ]
  },
  {
   "cell_type": "markdown",
   "metadata": {},
   "source": [
    "### Jawab"
   ]
  },
  {
   "cell_type": "code",
   "execution_count": 1,
   "metadata": {
    "id": "aFot6PMZiLq5"
   },
   "outputs": [
    {
     "name": "stdout",
     "output_type": "stream",
     "text": [
      "a: ('A', 'A', 'B', 'C', 'D', 'B', 'E', 'F', 'F', 'E', 'A', 'B', 'G', 'B', 'W', 'B')\n",
      "0100030013960202"
     ]
    }
   ],
   "source": [
    "# PROGRAM soal1\n",
    "# Program akan menghasilkan output sesuai kriteria dan\n",
    "# asumsi pada soal. Diasumsikan input dalam bentuk vektor\n",
    "# huruf seperti ('A', 'B'), dan () jika input vektor nol.\n",
    "\n",
    "\n",
    "# VARIABEL\n",
    "a = input('a: ')  # masukan vektor huruf\n",
    "\n",
    "\n",
    "# HITUNGAN PROGRAM\n",
    "# mengolah input\n",
    "a = a[1:-1]  # hilangkan '(' dan ')'\n",
    "\n",
    "if a!='':\n",
    "    # jika a bukan vektor kosong\n",
    "    a = a[1:-1]          # hilangkan karakter \"'\" yang ada diawal dan diakhir\n",
    "    a = a.split(\"', '\")  # sekarang setiap huruf dipisahkan oleh karakter \"', '\"\n",
    "\n",
    "\n",
    "# untuk setiap indeks karakter di input\n",
    "for i in range(len(a)):\n",
    "    \n",
    "    # mundur sebanyak j langkah, dan cek \n",
    "    # apakah ada karakter a[i-j] == a[i]\n",
    "    for j in range(1, 10):\n",
    "        if i-j<0:\n",
    "            # sekarang di indeks terkiri, stop\n",
    "            print(0, end='')\n",
    "            break        \n",
    "        elif a[i-j]==a[i]:\n",
    "            # ada karakter yang sama, cetak jarak\n",
    "            print(j, end='')\n",
    "            break\n",
    "    \n",
    "    # tidak ada karakter yang sama\n",
    "    else: print(0, end='')"
   ]
  },
  {
   "cell_type": "markdown",
   "metadata": {
    "id": "_uJXGz18f-2T"
   },
   "source": [
    "# 2 (Matriks Bilangan)\n",
    "\n",
    "Diberikan sebuah matriks $A$ ukuran $5\\times 5$. Gunakan perintah **randint** dari Python untuk mengisi elemen-elemen matriks tersebut dengan bilangan acak dalam rentang 10 - 100. Selanjutnya buat program Python untuk menukarkan isi baris ke 2 dengan baris ke 4. Setelah itu\n",
    "tukarkan isi kolom ke 1 dengan kolom ke 3."
   ]
  },
  {
   "cell_type": "markdown",
   "metadata": {},
   "source": [
    "### Jawab"
   ]
  },
  {
   "cell_type": "code",
   "execution_count": 2,
   "metadata": {
    "id": "TMzkB9oxiMk7"
   },
   "outputs": [
    {
     "name": "stdout",
     "output_type": "stream",
     "text": [
      "matriks hasil pengisian elemen:\n",
      "80 89 77 17 55 \n",
      "48 76 56 73 23 \n",
      "92 50 49 13 43 \n",
      "13 60 78 82 63 \n",
      "47 50 91 53 70 \n",
      "\n",
      "matriks hasil penukaran baris 2 dan 5\n",
      "80 89 77 17 55 \n",
      "47 50 91 53 70 \n",
      "92 50 49 13 43 \n",
      "13 60 78 82 63 \n",
      "48 76 56 73 23 \n",
      "\n",
      "matriks hasil penukaran kolom 1 dan 3\n",
      "77 89 80 17 55 \n",
      "91 50 47 53 70 \n",
      "49 50 92 13 43 \n",
      "78 60 13 82 63 \n",
      "56 76 48 73 23 \n",
      "\n"
     ]
    }
   ],
   "source": [
    "from random import randint\n",
    "\n",
    "# PROGRAM soal2\n",
    "# Untuk menyelesaikan permasalahan ini, diasumsikan\n",
    "# matriks A yang diberikan sebagai berikut:\n",
    "\n",
    "A = []\n",
    "for baris_ke in range(5):\n",
    "    A.append([0 for kolom_ke in range(5)])\n",
    "\n",
    "\n",
    "# VARIABEL\n",
    "# A, sudah diberikan berdasarkan asumsi pada deskripsi.\n",
    "\n",
    "\n",
    "# HITUNGAN PROGRAM\n",
    "\n",
    "#### isi elemen-elemen matriks dengan bilangan acak [10, 100]\n",
    "for baris_ke in range(5):\n",
    "    for kolom_ke in range(5):\n",
    "        A[baris_ke][kolom_ke] = randint(10, 100)\n",
    "\n",
    "# cetak matriks\n",
    "print('matriks hasil pengisian elemen:')\n",
    "for baris_ke in range(5):\n",
    "    for kolom_ke in range(5):\n",
    "        print(A[baris_ke][kolom_ke], end=' ')\n",
    "    print()\n",
    "print()\n",
    "\n",
    "#### tukar isi baris 2 dengan baris 5\n",
    "for kolom_ke in range(5):\n",
    "    A[1][kolom_ke], A[4][kolom_ke] = A[4][kolom_ke], A[1][kolom_ke]\n",
    "        \n",
    "# cetak matriks\n",
    "print('matriks hasil penukaran baris 2 dan 5')\n",
    "for baris_ke in range(5):\n",
    "    for kolom_ke in range(5):\n",
    "        print(A[baris_ke][kolom_ke], end=' ')\n",
    "    print()\n",
    "print()\n",
    "    \n",
    "#### tukar isi kolom 1 dengan kolom 3\n",
    "for baris_ke in range(5):\n",
    "    A[baris_ke][0], A[baris_ke][2] = A[baris_ke][2], A[baris_ke][0]\n",
    "\n",
    "# cetak matriks\n",
    "print('matriks hasil penukaran kolom 1 dan 3')\n",
    "for baris_ke in range(5):\n",
    "    for kolom_ke in range(5):\n",
    "        print(A[baris_ke][kolom_ke], end=' ')\n",
    "    print()\n",
    "print()"
   ]
  }
 ],
 "metadata": {
  "colab": {
   "name": "Praktikum 4 MA2151 Sikomat 2020",
   "provenance": []
  },
  "kernelspec": {
   "display_name": "Python 3",
   "language": "python",
   "name": "python3"
  },
  "language_info": {
   "codemirror_mode": {
    "name": "ipython",
    "version": 3
   },
   "file_extension": ".py",
   "mimetype": "text/x-python",
   "name": "python",
   "nbconvert_exporter": "python",
   "pygments_lexer": "ipython3",
   "version": "3.8.5"
  }
 },
 "nbformat": 4,
 "nbformat_minor": 1
}
