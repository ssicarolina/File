{
 "cells": [
  {
   "cell_type": "markdown",
   "metadata": {
    "id": "27GJn8MiCs0z"
   },
   "source": [
    "# **Praktikum 2 MA2151 Sikomat 2020**"
   ]
  },
  {
   "cell_type": "markdown",
   "metadata": {
    "id": "gxcZOuBleuQn"
   },
   "source": [
    "Program **hanya boleh** menggunakan instruksi sequential (berurutan) dan instruksi kondisional. Program **tidak boleh** memakai variabel array (berindeks) [dan instruksi pengulangan, apalagi fungsi]. Format keluaran diatur supaya mudah dibaca."
   ]
  },
  {
   "cell_type": "markdown",
   "metadata": {
    "id": "sO3JNVj8fbH0"
   },
   "source": [
    "## 1 (Pengurutan Sederhana*)\n",
    "\n",
    "Buat program Python untuk membaca empat bilangan bulat A, B, C dan D, lalu mencetak\n",
    "bilangan yang terbesar. Program **tidak boleh** menggunakan operator logika AND, OR, dan\n",
    "NOT. Ujilah program tersebut dengan data sebagai berikut:\n",
    "\n",
    "1.  A=10, B=20, C=30, D=40\n",
    "2.  A=40, B=20, C=10, D=30\n",
    "3.  A=20, B=10, C=40, D=30\n",
    "4.  A=10, B=10, C=10, D=30"
   ]
  },
  {
   "cell_type": "markdown",
   "metadata": {},
   "source": [
    "### Jawab\n",
    "\n",
    "Ada banyak cara untuk menyelesaikan permasalahan ini, misalnya dengan menggunakan instruksi kondisional. Kali ini, akan diberikan satu solusi lain yang lebih sederhana -- dalam kompleksitas kode, setidaknya. Sedikit info, jika anda melakukan instruksi kondisional sederhana seperti\n",
    "```python\n",
    "if kondisi:\n",
    "    hasil = 'Yeay'\n",
    "else:\n",
    "    hasil = 'Ohno'\n",
    "```\n",
    "\n",
    "anda dapat menyingkatnya sebagai\n",
    "```python\n",
    "hasil = 'Yeay' if kondisi else 'Ohno'\n",
    "```"
   ]
  },
  {
   "cell_type": "code",
   "execution_count": 1,
   "metadata": {
    "id": "aFot6PMZiLq5"
   },
   "outputs": [
    {
     "name": "stdout",
     "output_type": "stream",
     "text": [
      "nilai maksimum adalah 40\n"
     ]
    }
   ],
   "source": [
    "# PROGRAM soal1\n",
    "\n",
    "# program ini akan mencetak bilangan terbesar (maksimum)\n",
    "# diantara variabel A, B, C, D, dengan metode Bubble Sort.\n",
    "#\n",
    "# pertama-tama, program akan mengecek maksimum antara A dan B\n",
    "# nilai maksimum ini akan disimpan di variabel B.\n",
    "#\n",
    "# selanjutnya, program akan mengecek maksimum antara B dan C\n",
    "# namun secara tidak langsung,\n",
    "#   max(B, C) = max(max(A, B), C) = max(A, B, C)\n",
    "# sehingga sebenarnya program akan mengecek maksimum A, B, C\n",
    "# nilai maksimum ini akan disimpan di variabel C\n",
    "#\n",
    "# terakhir program akan mengecek maksimum antara C dan D, yang\n",
    "# secara tak langsung menghitung\n",
    "#   max(C, D) = max(max(B, C), D) = max(A, B, C, D)\n",
    "# nilai maksimum ini akan disimpan di variabel D\n",
    "\n",
    "\n",
    "# VARIABEL\n",
    "A=10\n",
    "B=20\n",
    "C=30\n",
    "D=40\n",
    "\n",
    "# HITUNGAN PROGRAM\n",
    "B = B if B>A else A\n",
    "C = C if C>B else B\n",
    "D = D if D>C else C\n",
    "\n",
    "print('nilai maksimum adalah', D)"
   ]
  },
  {
   "cell_type": "markdown",
   "metadata": {
    "id": "_uJXGz18f-2T"
   },
   "source": [
    "# 2 (Kura-Kura vs Kancil 2: Electric Boogaloo)\n",
    "\n",
    "Seekor kura-kura berlari dari garis start dengan kecepatan $V_1$ cm/detik. $k$ detik kemudian seekor kancil mulai berlari dari garis start dengan kecepatan $V_2$ cm/detik. Buat program komputer dalam bahasa Python untuk menentukan waktu yang diperlukan kancil untuk menyusul kura-kura dan tentukan jaraknya dari garis start. Data $V_1$, $V_2$, dan $k$ dimasukkan dengan perintah input. Gunakan instruksi kondisional untuk menguji validasi data, yaitu $0<V_1<V_2$,\n",
    "dan $k > 0$. Bila data masukan tidak valid, program tidak melakukan perhitungan, melainkan\n",
    "mengeluarkan keterangan bahwa datanya tidak valid.\n",
    "Ujilah program tersebut dengan data-data berikut:\n",
    "\n",
    "1. $V_1= 3$, $V_2=7$  , dan $k=10$\n",
    "2. $V_1= 3$, $V_2=3.1$, dan $k=10$\n",
    "3. $V_1= 3$, $V_2=3$  , dan $k=10$\n",
    "4. $V_1= 3$, $V_2=2.5$, dan $k=10$\n",
    "\n",
    "Dan tampilkan hasilnya dalam bentuk tabel sebagai berikut:\n",
    "\n",
    "```\n",
    "V kura2     V kancil     k     waktu bertemu     jarak bertemu\n",
    "   .            .        .          .                 .\n",
    "   .            .        .          .                 .\n",
    "   .            .        .          .                 .\n",
    "   .            .        .          .                 .\n",
    "\n",
    "```"
   ]
  },
  {
   "cell_type": "markdown",
   "metadata": {},
   "source": [
    "### Jawab\n",
    "\n",
    "Berikut salah satu kode yang dapat menyelesaikan permasalahan diatas"
   ]
  },
  {
   "cell_type": "code",
   "execution_count": 2,
   "metadata": {
    "id": "TMzkB9oxiMk7"
   },
   "outputs": [
    {
     "name": "stdout",
     "output_type": "stream",
     "text": [
      " V kura2  V kancil    k     waktu bertemu      jarak bertemu   \n",
      "    3         7      10          7.5                52.5       \n",
      "    3        3.1     10   299.9999999999997  929.9999999999991 \n",
      "    3         3      10   =========== data invalid ============\n",
      "    3        2.5     10   =========== data invalid ============\n"
     ]
    }
   ],
   "source": [
    "# PROGRAM soal2\n",
    "\n",
    "# anggap t sebagai waktu yang dibutuhkan untuk kancil menyusul\n",
    "# kura-kura. kita memiliki persamaan\n",
    "#   V1*k + V1*t  = V2*t\n",
    "#   V1*k/(V2-V1) = t\n",
    "# dan jarak bertemu dapat ditentukan dengan menghitung V2*t\n",
    "#\n",
    "# program akan melakukan pengecekan dan output sesuai syarat\n",
    "# pada soal\n",
    "\n",
    "\n",
    "# VARIABEL\n",
    "V1 = 3   # kecepatan kura-kura\n",
    "k  = 10  # jeda start kura-kura dan kancil\n",
    "# formatting untuk tabel, silahkan lihat www.pyformat.info\n",
    "tabel_valid   = '{:^9} {:^9} {:^5} {:^18} {:^18}'\n",
    "tabel_invalid = '{:^9} {:^9} {:^5} {:=^37}'\n",
    "\n",
    "\n",
    "# HITUNGAN PROGRAM\n",
    "print(tabel_valid.format('V kura2', 'V kancil', 'k', 'waktu bertemu', 'jarak bertemu'))\n",
    "\n",
    "\n",
    "############# data1 ################\n",
    "V2 = 7   # kecepatan kancil\n",
    "\n",
    "if 0<V1<V2:\n",
    "    # menghasilkan waktu temu kura-kura dan kancil\n",
    "    waktu_temu = V1*k/(V2-V1) \n",
    "    # menghasilkan jarak temu kura-kura dan kancil\n",
    "    jarak_temu = waktu_temu*V2\n",
    "\n",
    "    print(tabel_valid.format(V1, V2, k, waktu_temu, jarak_temu))\n",
    "else:\n",
    "    # hasil jika data tidak valid\n",
    "    print(tabel_invalid.format(V1, V2, k, ' data invalid '))\n",
    "\n",
    "\n",
    "############# data2 ################\n",
    "V2 = 3.1\n",
    "# kode sama dengan data1\n",
    "if 0<V1<V2:\n",
    "    waktu_temu = V1*k/(V2-V1) \n",
    "    jarak_temu = waktu_temu*V2\n",
    "    print(tabel_valid.format(V1, V2, k, waktu_temu, jarak_temu))\n",
    "else:\n",
    "    print(tabel_invalid.format(V1, V2, k, ' data invalid '))\n",
    "\n",
    "############# data3 ################\n",
    "V2 = 3\n",
    "# kode sama dengan data1\n",
    "if 0<V1<V2:\n",
    "    waktu_temu = V1*k/(V2-V1) \n",
    "    jarak_temu = waktu_temu*V2\n",
    "    print(tabel_valid.format(V1, V2, k, waktu_temu, jarak_temu))\n",
    "else:\n",
    "    print(tabel_invalid.format(V1, V2, k, ' data invalid '))\n",
    "\n",
    "############# data4 ################\n",
    "V2 = 2.5\n",
    "# kode sama dengan data1\n",
    "if 0<V1<V2:\n",
    "    waktu_temu = V1*k/(V2-V1) \n",
    "    jarak_temu = waktu_temu*V2\n",
    "    print(tabel_valid.format(V1, V2, k, waktu_temu, jarak_temu))\n",
    "else:\n",
    "    print(tabel_invalid.format(V1, V2, k, ' data invalid '))"
   ]
  },
  {
   "cell_type": "markdown",
   "metadata": {
    "id": "4o0fhCDWMJdT"
   },
   "source": [
    "# 3 (*Prepare for Trouble, and Make It Double, eh Triple*)\n",
    "\n",
    "Menyelesaikan persamaan kuadratik mungkin sudah menjadi makanan sehari-hari kalian. Namun, bagaimana dengan menyelesaikan persamaan kubik?\n",
    "\n",
    "Ratusan tahun lalu, Cardano dan Ferro berhasil menemukan akar dari sebarang sukubanyak berderajat tiga berkoefisien real. Di praktikum ini, Anda akan mereplikasi (sebagian) cara Cardano menemukan akar tersebut.\n",
    "Persamaan kubik yang ditinjau di praktikum ini adalah $x^3+px+q=0$.\n",
    "\n",
    "a.  Seperti di kasus persamaan kuadratik, persamaan kubik juga mengenal konsep \"diskriminan\" untuk menentukan jenis solusi persamaan ini. Untuk persamaan berbentuk seperti di atas, diskriminannya adalah $\\Delta=4p^3+27q^2$.\n",
    "\n",
    "*   Jika $\\Delta>0$, persamaan punya satu akar real dan dua akar kompleks (tak real).\n",
    "*   Jika $\\Delta=0$, persamaan punya tiga akar real, dengan dua di antaranya kembar.\n",
    "*   Jika $\\Delta<0$, persamaan punya tiga akar real.\n",
    "\n",
    "[Mengapa persamaan di atas selalu punya akar real? Anda bisa membuktikan hal ini dengan metode di Matematika 1A :D]\n",
    "\n",
    "Buatlah program Python yang menerima masukan koefisien $(p,q)$, dan mengeluarkan jenis akar yang dimilki persamaan tersebut.\n",
    "\n",
    "b. (salah satu) Akar real dari persamaan di atas adalah $$     {\\displaystyle {\\sqrt[{3}]{-{\\frac {q}{2}}+{\\sqrt {{\\frac {q^{2}}{4}}+{\\frac {p^{3}}{27}}}}}}+{\\sqrt[{3}]{-{\\frac {q}{2}}-{\\sqrt {{\\frac {q^{2}}{4}}+{\\frac {p^{3}}{27}}}}}}.}$$\n",
    "Buatlah program Python yang menerima masukan koefisien $(p,q)$ dari persamaan di atas, dan mengeluarkan akar real tersebut (jika $\\Delta\\geq 0$).\n",
    "\n",
    "Gabungkan program Anda untuk bagian a dan b dalam satu program. Ujilah program di atas dengan sukubanyak $x^3+Ax+B$,$x^3-Bx+C$,$x^3+Ax+C$, dengan $A$ tiga digit pertama NIM Anda, $B$ dua digit selanjutnya, dan $C$ tiga digit terakhir NIM Anda.\n",
    "\n",
    "PS: Bagaimana dengan kasus umum (saat koefisien $x^2$ tidak nol? Untuk derajat kuartik, kuintik, dan sebagainya)? Bagaimana cara menemukan akar-akar yang lain? Silakan mengambil Teori Galois :D\n"
   ]
  },
  {
   "cell_type": "markdown",
   "metadata": {},
   "source": [
    "### Jawab"
   ]
  },
  {
   "cell_type": "code",
   "execution_count": 3,
   "metadata": {
    "id": "JZWJxabwRlPx"
   },
   "outputs": [
    {
     "name": "stdout",
     "output_type": "stream",
     "text": [
      "untuk persamaan kubik dalam bentuk x**3 + px + q = 0, tolong\n",
      "masukkan nilai p: 3.2\n",
      "masukkan nilai q: 1.513\n",
      "\n",
      "persamaan punya satu akar real dan dua akar kompleks (tak real).\n",
      "berikut (salah satu) akar real persamaan tersebut: -0.44523162519573656\n"
     ]
    }
   ],
   "source": [
    "# PROGRAM soal3\n",
    "\n",
    "# untuk bagian 3a, program akan menerima bilangan pecahan p dan q\n",
    "# dan mengecek nilai diskriminan persamaan kubik x**3 + px + q = 0\n",
    "\n",
    "# untuk bagian 3b, jika nilai diskriminan >= 0, program akan mengeluarkan\n",
    "# akar real persamaan kubik tersebut. Agar tidak berurusan dengan bilangan\n",
    "# imajiner, persamaan akar real yang diberikan soal, diubah menjadi\n",
    "#   (-q/2 + (q**2/4 + p**3/27)**(1/2))**(1/3) \n",
    "#   - (q/2 + (q**2/4 + p**3/27)**(1/2))**(1/3)\n",
    "\n",
    "\n",
    "# VARIABEL\n",
    "print('untuk persamaan kubik dalam bentuk x**3 + px + q = 0, tolong')\n",
    "p = float(input('masukkan nilai p: '))\n",
    "q = float(input('masukkan nilai q: '))\n",
    "print()\n",
    "\n",
    "# HITUNGAN PROGRAM\n",
    "diskriminan = 4*p**3 + 27*q**2\n",
    "\n",
    "# bagian 3a\n",
    "if diskriminan>0: print('persamaan punya satu akar real dan dua akar kompleks (tak real).')\n",
    "elif diskriminan==0: print('persamaan punya tiga akar real, dengan dua di antaranya kembar.')\n",
    "else: print('persamaan punya tiga akar real.')\n",
    "    \n",
    "# bagian 3b\n",
    "if diskriminan>=0:\n",
    "    akar_real = (-q/2 + (q**2/4 + p**3/27)**(1/2))**(1/3) - (q/2 + (q**2/4 + p**3/27)**(1/2))**(1/3)\n",
    "    print('berikut (salah satu) akar real persamaan tersebut:', akar_real)"
   ]
  },
  {
   "cell_type": "raw",
   "metadata": {},
   "source": [
    "Untuk NIM = 10199321, berikut hasil coba ke kode\n",
    "\n",
    " p    q       akar_real        jenis solusi\n",
    "101,  99, -0.9711300349783611, persamaan punya satu akar real dan dua akar kompleks (tak real).\n",
    "-99, 321,                      persamaan punya tiga akar real.\n",
    "101, 321, -2.929339189489262,  persamaan punya satu akar real dan dua akar kompleks (tak real)."
   ]
  },
  {
   "cell_type": "markdown",
   "metadata": {
    "id": "dzFNRhKpVtef"
   },
   "source": [
    "# 4 (Verifikasi Segitiga)\n",
    "\n",
    "Diberikan koordinat Kartesian tiga titik $P$, $Q$, $R$ (diwakili enam variabel $Px,Py,Qx,Qy,Rx,Ry$). Buatlah program Python untuk menentukan posisi yang dibentuk tiga titik ini - segaris, membentuk segitiga lancip, segitiga siku-siku, atau segitiga tumpul, atau ada dua titik yang berada di posisi yang sama.\n",
    "\n",
    "Ujilah program Anda dengan memakai titik $(A,B),(B,C),(C,A)$ dan $(A,C),(B,A),(C,B)$, dengan $A$,$B$,$C$ didefinisikan seperti di nomor 3. \n"
   ]
  },
  {
   "cell_type": "code",
   "execution_count": 4,
   "metadata": {
    "id": "XLmnZNdg67jr"
   },
   "outputs": [
    {
     "name": "stdout",
     "output_type": "stream",
     "text": [
      "0 0 3 0 3 4\n",
      "ketiga titik membentuk segitiga siku-siku\n"
     ]
    }
   ],
   "source": [
    "# PROGRAM soal_4\n",
    "\n",
    "\n",
    "# VARIABEL\n",
    "Px, Py, Qx, Qy, Rx, Ry = [float(num) for num in input().split()]\n",
    "\n",
    "\n",
    "# HITUNGAN PROGRAM\n",
    "# cek apakah ada dua titik dalam posisi yang sama\n",
    "if (Px==Qx and Py==Qy) or (Px==Rx and Py==Ry) or (Qx==Rx and Qy==Ry):\n",
    "    print('Ada dua titik dalam posisi yang sama.')\n",
    "\n",
    "# cek apakah ketiga titik segaris,\n",
    "# mP = mQ = mR\n",
    "if (Py*Qx==Qy*Px) and (Qy*Rx==Ry*Qx):\n",
    "    print('ketiga titik segaris.')\n",
    "\n",
    "else:\n",
    "    # hitung panjang PQ, PR, QR\n",
    "    A = ((Px-Qx)**2 + (Py-Qy)**2)**0.5  # panjang PQ\n",
    "    B = ((Px-Rx)**2 + (Py-Ry)**2)**0.5  # panjang PR\n",
    "    C = ((Qx-Rx)**2 + (Qy-Ry)**2)**0.5  # panjgan QR\n",
    "    \n",
    "    # tukar dan urutkan nilai A,B,C sehingga variabel A<=B<=C\n",
    "    A, B = (A, B) if A<=B else (B, A)  # A, B, C = min(A,B), max(A,B), C\n",
    "    B, C = (B, C) if B<=C else (C, B)  # A, B, C = min(A,B), min(max(A,B),C), max(A,B,C)\n",
    "    A, B = (A, B) if A<=B else (B, A)  # A, B, C = min(A,B,C), median(A,B,C), max(A,B,C)\n",
    "    \n",
    "    # dengan menggunakan persamaan pythagoras\n",
    "    if A**2 + B**2 == C**2: print('ketiga titik membentuk segitiga siku-siku')\n",
    "    elif A**2 + B**2 > C**2: print('ketiga titik membentuk segitiga lancip')\n",
    "    else: print('ketiga titik membentuk segitiga tumpul')"
   ]
  },
  {
   "cell_type": "raw",
   "metadata": {},
   "source": [
    "Untuk NIM = 10199321, kasus:\n",
    "(101, 99), (99, 321), (321, 101) menghasilkan ketiga titik membentuk segitiga lancip\n",
    "(101, 321), (99, 101), (321, 99) menghasilkan ketiga titik membentuk segitiga lancip"
   ]
  }
 ],
 "metadata": {
  "colab": {
   "name": "Praktikum 2 MA2151 Sikomat 2020",
   "provenance": []
  },
  "kernelspec": {
   "display_name": "Python 3",
   "language": "python",
   "name": "python3"
  },
  "language_info": {
   "codemirror_mode": {
    "name": "ipython",
    "version": 3
   },
   "file_extension": ".py",
   "mimetype": "text/x-python",
   "name": "python",
   "nbconvert_exporter": "python",
   "pygments_lexer": "ipython3",
   "version": "3.8.5"
  }
 },
 "nbformat": 4,
 "nbformat_minor": 1
}
