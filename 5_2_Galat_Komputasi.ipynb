{
  "nbformat": 4,
  "nbformat_minor": 0,
  "metadata": {
    "colab": {
      "name": "5.2 Galat Komputasi.ipynb",
      "provenance": []
    },
    "kernelspec": {
      "name": "python3",
      "display_name": "Python 3"
    }
  },
  "cells": [
    {
      "cell_type": "code",
      "metadata": {
        "colab": {
          "base_uri": "https://localhost:8080/"
        },
        "id": "ZBXYkgxSC4Xl",
        "outputId": "e4df2873-fba1-4762-e6d0-48ea628eabb4"
      },
      "source": [
        "numberOfTimesSteps = 52\n",
        "dt = 0.09961\n",
        "t = 0 \n",
        "absoluteError = 0\n",
        "relativeError = 0\n",
        "# Masukkan data yang diperlukan \n",
        "print(\"i\",\"\\t\\tt\",\"\\tNew t\",\"\\t\\tabsolute Error\",\"\\t\\tRelative Error\")\n",
        "for i in range(1,numberOfTimesSteps):\n",
        "  t = round((t + dt),6)\n",
        "  t1 = round(t,4)\n",
        "  absoluteError = round((abs(t-t1)),7)\n",
        "  relativeError = round(((absoluteError/abs(t)) *100),3)\n",
        "  print(i,\"\\t\",t,\"\\t\",t1,\"\\t\\t\",absoluteError,\"\\t\",relativeError,\"%\",\"\\n\")\n",
        "\n",
        "  \n",
        "\n"
      ],
      "execution_count": 30,
      "outputs": [
        {
          "output_type": "stream",
          "text": [
            "i \t\tt \tNew t \t\tabsolute Error \t\tRelative Error\n",
            "1 \t 0.09961 \t 0.0996 \t\t 1e-05 \t 0.01 % \n",
            "\n",
            "2 \t 0.19922 \t 0.1992 \t\t 2e-05 \t 0.01 % \n",
            "\n",
            "3 \t 0.29883 \t 0.2988 \t\t 3e-05 \t 0.01 % \n",
            "\n",
            "4 \t 0.39844 \t 0.3984 \t\t 4e-05 \t 0.01 % \n",
            "\n",
            "5 \t 0.49805 \t 0.498 \t\t 5e-05 \t 0.01 % \n",
            "\n",
            "6 \t 0.59766 \t 0.5977 \t\t 4e-05 \t 0.007 % \n",
            "\n",
            "7 \t 0.69727 \t 0.6973 \t\t 3e-05 \t 0.004 % \n",
            "\n",
            "8 \t 0.79688 \t 0.7969 \t\t 2e-05 \t 0.003 % \n",
            "\n",
            "9 \t 0.89649 \t 0.8965 \t\t 1e-05 \t 0.001 % \n",
            "\n",
            "10 \t 0.9961 \t 0.9961 \t\t 0.0 \t 0.0 % \n",
            "\n",
            "11 \t 1.09571 \t 1.0957 \t\t 1e-05 \t 0.001 % \n",
            "\n",
            "12 \t 1.19532 \t 1.1953 \t\t 2e-05 \t 0.002 % \n",
            "\n",
            "13 \t 1.29493 \t 1.2949 \t\t 3e-05 \t 0.002 % \n",
            "\n",
            "14 \t 1.39454 \t 1.3945 \t\t 4e-05 \t 0.003 % \n",
            "\n",
            "15 \t 1.49415 \t 1.4942 \t\t 5e-05 \t 0.003 % \n",
            "\n",
            "16 \t 1.59376 \t 1.5938 \t\t 4e-05 \t 0.003 % \n",
            "\n",
            "17 \t 1.69337 \t 1.6934 \t\t 3e-05 \t 0.002 % \n",
            "\n",
            "18 \t 1.79298 \t 1.793 \t\t 2e-05 \t 0.001 % \n",
            "\n",
            "19 \t 1.89259 \t 1.8926 \t\t 1e-05 \t 0.001 % \n",
            "\n",
            "20 \t 1.9922 \t 1.9922 \t\t 0.0 \t 0.0 % \n",
            "\n",
            "21 \t 2.09181 \t 2.0918 \t\t 1e-05 \t 0.0 % \n",
            "\n",
            "22 \t 2.19142 \t 2.1914 \t\t 2e-05 \t 0.001 % \n",
            "\n",
            "23 \t 2.29103 \t 2.291 \t\t 3e-05 \t 0.001 % \n",
            "\n",
            "24 \t 2.39064 \t 2.3906 \t\t 4e-05 \t 0.002 % \n",
            "\n",
            "25 \t 2.49025 \t 2.4903 \t\t 5e-05 \t 0.002 % \n",
            "\n",
            "26 \t 2.58986 \t 2.5899 \t\t 4e-05 \t 0.002 % \n",
            "\n",
            "27 \t 2.68947 \t 2.6895 \t\t 3e-05 \t 0.001 % \n",
            "\n",
            "28 \t 2.78908 \t 2.7891 \t\t 2e-05 \t 0.001 % \n",
            "\n",
            "29 \t 2.88869 \t 2.8887 \t\t 1e-05 \t 0.0 % \n",
            "\n",
            "30 \t 2.9883 \t 2.9883 \t\t 0.0 \t 0.0 % \n",
            "\n",
            "31 \t 3.08791 \t 3.0879 \t\t 1e-05 \t 0.0 % \n",
            "\n",
            "32 \t 3.18752 \t 3.1875 \t\t 2e-05 \t 0.001 % \n",
            "\n",
            "33 \t 3.28713 \t 3.2871 \t\t 3e-05 \t 0.001 % \n",
            "\n",
            "34 \t 3.38674 \t 3.3867 \t\t 4e-05 \t 0.001 % \n",
            "\n",
            "35 \t 3.48635 \t 3.4863 \t\t 5e-05 \t 0.001 % \n",
            "\n",
            "36 \t 3.58596 \t 3.586 \t\t 4e-05 \t 0.001 % \n",
            "\n",
            "37 \t 3.68557 \t 3.6856 \t\t 3e-05 \t 0.001 % \n",
            "\n",
            "38 \t 3.78518 \t 3.7852 \t\t 2e-05 \t 0.001 % \n",
            "\n",
            "39 \t 3.88479 \t 3.8848 \t\t 1e-05 \t 0.0 % \n",
            "\n",
            "40 \t 3.9844 \t 3.9844 \t\t 0.0 \t 0.0 % \n",
            "\n",
            "41 \t 4.08401 \t 4.084 \t\t 1e-05 \t 0.0 % \n",
            "\n",
            "42 \t 4.18362 \t 4.1836 \t\t 2e-05 \t 0.0 % \n",
            "\n",
            "43 \t 4.28323 \t 4.2832 \t\t 3e-05 \t 0.001 % \n",
            "\n",
            "44 \t 4.38284 \t 4.3828 \t\t 4e-05 \t 0.001 % \n",
            "\n",
            "45 \t 4.48245 \t 4.4825 \t\t 5e-05 \t 0.001 % \n",
            "\n",
            "46 \t 4.58206 \t 4.5821 \t\t 4e-05 \t 0.001 % \n",
            "\n",
            "47 \t 4.68167 \t 4.6817 \t\t 3e-05 \t 0.001 % \n",
            "\n",
            "48 \t 4.78128 \t 4.7813 \t\t 2e-05 \t 0.0 % \n",
            "\n",
            "49 \t 4.88089 \t 4.8809 \t\t 1e-05 \t 0.0 % \n",
            "\n",
            "50 \t 4.9805 \t 4.9805 \t\t 0.0 \t 0.0 % \n",
            "\n",
            "51 \t 5.08011 \t 5.0801 \t\t 1e-05 \t 0.0 % \n",
            "\n"
          ],
          "name": "stdout"
        }
      ]
    },
    {
      "cell_type": "code",
      "metadata": {
        "colab": {
          "base_uri": "https://localhost:8080/"
        },
        "id": "ZBHHW8efMMj-",
        "outputId": "fbe13368-df17-4c19-bf40-04b9f254bbde"
      },
      "source": [
        "print(round(30.1453,2))"
      ],
      "execution_count": 28,
      "outputs": [
        {
          "output_type": "stream",
          "text": [
            "30.15\n"
          ],
          "name": "stdout"
        }
      ]
    }
  ]
}