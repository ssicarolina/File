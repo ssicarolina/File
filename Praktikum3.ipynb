{
 "cells": [
  {
   "cell_type": "markdown",
   "metadata": {
    "id": "27GJn8MiCs0z"
   },
   "source": [
    "# **Praktikum 3 MA2151 Sikomat 2020**"
   ]
  },
  {
   "cell_type": "markdown",
   "metadata": {
    "id": "gxcZOuBleuQn"
   },
   "source": [
    "Program **tidak boleh** menggunakan *array* dan mengimpor paket/modul. Format keluaran diatur supaya mudah dibaca - usahakan mengikuti standar PEP 8 di https://www.python.org/dev/peps/pep-0008/ ."
   ]
  },
  {
   "cell_type": "markdown",
   "metadata": {
    "id": "sO3JNVj8fbH0"
   },
   "source": [
    "## 1 ($\\sqrt{2}$)\n",
    "\n",
    "Akar kuadrat dari sebuah bilangan real (positif) $a$ dapat diaproksimasi melalui barisan berikut:\n",
    "$$b_1=1, b_n=\\dfrac{1}{2} \\left(b_{n-1}+\\dfrac{a}{b_{n-1}}\\right),n\\geq 2. $$\n",
    "\n",
    "Dengan menggunakan barisan di atas, buatlah program untuk mengaproksimasi nilai $\\sqrt{2}$. Program akan berhenti jika $|b_{n}-b_{n-1}|<10^{-6}$.\n",
    "\n",
    "\n"
   ]
  },
  {
   "cell_type": "markdown",
   "metadata": {},
   "source": [
    "### Jawab"
   ]
  },
  {
   "cell_type": "code",
   "execution_count": 1,
   "metadata": {
    "id": "aFot6PMZiLq5"
   },
   "outputs": [
    {
     "name": "stdout",
     "output_type": "stream",
     "text": [
      "1.414213562373095\n"
     ]
    }
   ],
   "source": [
    "# PROGRAM soal1\n",
    "# akan dicari aproksimasi dari sqrt(2) dengan\n",
    "# metode dan syarat yang diberikan soal.\n",
    "#   b_n = (b_{n-1} + 2/b_{n-1})/2 ; b_1 = 1\n",
    "\n",
    "# VARIABEL\n",
    "b0 = 1    # nilai b iterasi ke n-1\n",
    "b  = 1.5  # nilai b iterasi ke n, nilai default untuk n=2\n",
    "\n",
    "\n",
    "# HITUNGAN PROGRAM\n",
    "while abs(b-b0)>=1e-6:\n",
    "    # ganti nilai b0 menjadi b,\n",
    "    # sekaligus ganti nilai b sesuai rumus\n",
    "    b0, b = b, (b+2/b)/2\n",
    "\n",
    "print(b)"
   ]
  },
  {
   "cell_type": "markdown",
   "metadata": {},
   "source": [
    "Untuk meyakinkan diri, mari kita bandingkan aproksimasi dengan nilai $\\sqrt(2)$ yang diperoleh dari fungsi `math.sqrt()`"
   ]
  },
  {
   "cell_type": "code",
   "execution_count": 2,
   "metadata": {},
   "outputs": [
    {
     "name": "stdout",
     "output_type": "stream",
     "text": [
      "nilai sqrt(2)  = 1.4142135623730951\n",
      "aproksimasinya = 1.414213562373095\n"
     ]
    }
   ],
   "source": [
    "from math import sqrt\n",
    "\n",
    "print('nilai sqrt(2)  =', sqrt(2))\n",
    "print('aproksimasinya =', b)"
   ]
  },
  {
   "cell_type": "markdown",
   "metadata": {
    "id": "_uJXGz18f-2T"
   },
   "source": [
    "# 2 (8)\n",
    "\n",
    "Buat program Python yang membaca bilangan bulat $n$ dan menentukan apakah ia kelipatan delapan (atau bukan). Proses diulangi terus selama bilangan yang dimasukkan tak nol. \n",
    "\n",
    "(Asumsikan bilangan pertama yang dimasukan bukan nol.)"
   ]
  },
  {
   "cell_type": "markdown",
   "metadata": {},
   "source": [
    "### Jawab"
   ]
  },
  {
   "cell_type": "code",
   "execution_count": 3,
   "metadata": {
    "id": "TMzkB9oxiMk7"
   },
   "outputs": [
    {
     "name": "stdout",
     "output_type": "stream",
     "text": [
      "masukkan nilai n: 3\n",
      "n bukan kelipatan delapan.\n",
      "\n",
      "masukkan nilai n: -8\n",
      "n kelipatan delapan.\n",
      "\n",
      "masukkan nilai n: 4\n",
      "n bukan kelipatan delapan.\n",
      "\n",
      "masukkan nilai n: 0\n",
      "n kelipatan delapan.\n",
      "\n"
     ]
    }
   ],
   "source": [
    "# PROGRAM soal2\n",
    "# program akan melakukan pengulangan membaca bilangan bulat\n",
    "# n dan menentukan apakah ia kelipatan delapan (atau bukan),\n",
    "# selama input != 0\n",
    "\n",
    "\n",
    "# VARIABEL\n",
    "n = -1   # variabel untuk menampung bilangan bulat yang diinput\n",
    "\n",
    "while n!=0:\n",
    "    n = int(input('masukkan nilai n: ')) \n",
    "    print('n' if n%8==0 else 'n bukan', 'kelipatan delapan.\\n')"
   ]
  },
  {
   "cell_type": "markdown",
   "metadata": {
    "id": "4o0fhCDWMJdT"
   },
   "source": [
    "# 3 (Prima dan Chebyshev)\n",
    " \n",
    "Di era komputasi seperti sekarang, bilangan prima memainkan peranan penting dalam berbagai algoritma kriptografi yang dipakai untuk mengamankan data *uhuk* RSA *uhuk*. Meskipun persebaran bilangan prima (dan cara efisien mengetahui keprimaan suatu bilangan) belum diketahui secara eksplisit, pada praktikum kali ini Anda akan membuat beberapa algoritma sederhana yang berkalitan dengan bilangan prima.\n",
    "\n",
    "1. Algoritma tersederhana dalam mengecek keprimaan suatu bilangan asli $n$ adalah *trial division*. Algoritma ini(dalam versi efektif) berjalan sebagai berikut: bagi $n$ dengan setiap bilangan bulat yang  lebih besar dari 1 dan tidak lebih besar dari $\\sqrt{n}$ (diwakili `int(n**(1/2)`) - $n$ prima jika dan hanya jika tidak ada bilangan yang dicoba dan habis membagi $n$. Buatlah program yang menerima masukan $n$ dan mengeluarkan hasil mengenai keprimaan $n$, dengan menggunakan algoritma yang dideskripsikan di paragraf sebelumnya.\n",
    " \n",
    " \n",
    "2. Pafnuty Chebyshev pada 1852 telah membuktikan untuk setiap $n$ asli yang lebih dari dua, selalu ada bilangan prima yang lebih besar dari $n$ dan lebih kecil dari $2n$. Pernyataan ini masyhur dikenal sebagai *Postulat Bertrand* atau *Teorema Bertrand-Chebyshev* (karena Joseph Bertrand mengajukan konjektur ini pada 1846). Dengan menggunakan algoritma yang telah Anda buat di bagian a, buatlah program yang menerima masukan bilangan asli $n$ dan mengeluarkan **sebuah** bilangan prima yang lebih besar dari $n$ dan lebih kecil dari $2n$.\n",
    " \n",
    "\n",
    "Misal NIM Anda ABCDEFGH. Ujilah kedua program yang telah Anda buat dengan menggunakan $n=ABCD, EFGHD, 2017, 2021$ (dengan menuliskan hasil pengujian di catatan).\n",
    " \n",
    "PS: Jika Anda penasaran lebih lanjut tentang bilangan prima teori bilangan, silakan mengambil mata kuliah Pengantar Teori Bilangan atau Kriptografi."
   ]
  },
  {
   "cell_type": "markdown",
   "metadata": {},
   "source": [
    "### Jawab"
   ]
  },
  {
   "cell_type": "code",
   "execution_count": 4,
   "metadata": {
    "id": "JZWJxabwRlPx"
   },
   "outputs": [
    {
     "name": "stdout",
     "output_type": "stream",
     "text": [
      "masukkan bilangan asli n: 108\n",
      "n bukan bilangan prima.\n",
      "109 adalah bilangan prima antara (n, 2n).\n"
     ]
    }
   ],
   "source": [
    "# PROGRAM soal3\n",
    "# Untuk bagian (a), program akan mengecek keprimaan\n",
    "# masukan bilangan n dengan metode yang diberikan soal\n",
    "# Untuk bagian (b), akan dicari sebuah bilangan prima\n",
    "# di interval (n, 2n)\n",
    "\n",
    "\n",
    "# VARIABEL\n",
    "n = int(input('masukkan bilangan asli n: '))\n",
    "\n",
    "\n",
    "# HITUNGAN PROGRAM\n",
    "\n",
    "# bagian a\n",
    "if n==1:\n",
    "    print('n bukan bilangan prima.')\n",
    "else:\n",
    "    # cek primalitas dari n\n",
    "    #   untuk bagian ini, kode dapat ditulis lebih singkat karena sebenarnya\n",
    "    #   klausa 'for' (dan klausa 'while') di Python juga memiliki klausa 'else'\n",
    "    #   (di Python, bukan hanya 'if' yang punya 'else'). Bagian 'else' akan\n",
    "    #   dieksekusi hanya jika looping selesai bukan karena 'break' statement.\n",
    "    for q in range(2, int(n**0.5)):\n",
    "        if n%q==0:\n",
    "            print('n bukan bilangan prima.')\n",
    "            break\n",
    "    else:\n",
    "        print('n bilangan prima.')\n",
    "        \n",
    "    #bagian b\n",
    "    for num in range(n+1, 2*n):\n",
    "        \n",
    "        # cek apakah num adalah bilangan prima\n",
    "        for q in range(2, int(n**0.5)):\n",
    "            if num%q==0: break\n",
    "        else:\n",
    "            # num adalah bilangan prima\n",
    "            print(num, 'adalah bilangan prima antara (n, 2n).')\n",
    "            \n",
    "            # akhiri pencarian num\n",
    "            break"
   ]
  },
  {
   "cell_type": "markdown",
   "metadata": {},
   "source": [
    "Catatan:\n",
    "Untuk NIM 10199321, pengujian program menghasilkan output\n",
    "\n",
    "\n",
    "masukkan bilangan asli n: 1019\n",
    "n bilangan prima.\n",
    "1021 adalah bilangan prima antara (n, 2n).\n",
    "\n",
    "masukkan bilangan asli n: 93219\n",
    "n bukan bilangan prima.\n",
    "93229 adalah bilangan prima antara (n, 2n).\n",
    "\n",
    "masukkan bilangan asli n: 2017\n",
    "n bilangan prima.\n",
    "2027 adalah bilangan prima antara (n, 2n).\n",
    "\n",
    "masukkan bilangan asli n: 2021\n",
    "n bukan bilangan prima.\n",
    "2027 adalah bilangan prima antara (n, 2n)."
   ]
  },
  {
   "cell_type": "markdown",
   "metadata": {
    "id": "dzFNRhKpVtef"
   },
   "source": [
    "# 4 (Guru Oemar Bakrie)\n",
    " \n",
    "Lagu yang bisa didengarkan selagi mengerjakan soal ini: https://www.youtube.com/watch?v=8aSclF7GeJg\n",
    " \n",
    "Suatu hari, guru ilmu pasti sekolah Sikomat (sebutlah namanya Oemar Bakrie) membariskan anak-anak yang telat sekolah (dalam satu baris). Guru tersebut kemudian meminta nama dan tinggi badan setiap anak, guna referensi sampel rata-rata anak zaman sekarang.\n",
    " \n",
    "Setelah selesai memberi konsekuensi ke anak yang telat, beliau masuk kelas. Sialnya, dia baru teringat bahwa anak kepala sekolah juga telat masuk sekolah. Beliau tidak mengingat mukanya, namun beliau mengingat dua hal berikut: \n",
    " \n",
    "- Ia lebih tinggi dari anak yang berdiri tepat di depannya.\n",
    "- Ia lebih tinggi dari anak yang berdiri tepat di belakangnya.\n",
    " \n",
    "(catatan: ia tidak berdiri paling belakang ataupun paling depan)\n",
    " \n",
    "Dengan menggunakan data yang beliau punya, bantulah program untuk menentukan banyak murid telat yang mungkin merupakan anak kepala sekolah.\n",
    " \n",
    "Berikut spesifikasi program:\n",
    "- Program menerima masukan berupa $N$, banyak murid yang telat, dan dilanjutkan dengan $N$ buah masukan berupa tinggi $N$ anak tersebut (urut dari murid yang paling depan).\n",
    "- Program mengeluarkan banyak anak yang memenuhi kriteria sang guru.\n",
    " \n",
    "Contoh masukan dan keluaran (tentunya, program anda tidak perlu mengeluarkan '#Masukan'):"
   ]
  },
  {
   "cell_type": "raw",
   "metadata": {
    "id": "oSLCBNbsvl1y"
   },
   "source": [
    "#Masukan\n",
    "Banyak murid: 6\n",
    "Tinggi murid 1: 153\n",
    "Tinggi murid 2: 155\n",
    "Tinggi murid 3: 160\n",
    "Tinggi murid 4: 159\n",
    "Tinggi murid 5: 167\n",
    "Tinggi murid 6: 166\n",
    " \n",
    "#Keluaran\n",
    "Ada 2 anak kepala sekolah yang mungkin\n",
    " \n",
    "#Penjelasan\n",
    "murid yang memenuhi persyaratan soal hanya murid 3 dan 5."
   ]
  },
  {
   "cell_type": "raw",
   "metadata": {
    "id": "XLmnZNdg67jr"
   },
   "source": [
    "#Masukan\n",
    "Banyak murid: 6\n",
    "Tinggi murid 1: 153\n",
    "Tinggi murid 2: 152\n",
    "Tinggi murid 3: 151\n",
    "Tinggi murid 4: 170\n",
    "Tinggi murid 5: 170\n",
    "Tinggi murid 6: 169\n",
    " \n",
    "#Keluaran\n",
    "Ada 0 anak kepala sekolah yang mungkin"
   ]
  },
  {
   "cell_type": "markdown",
   "metadata": {},
   "source": [
    "### Jawab"
   ]
  },
  {
   "cell_type": "code",
   "execution_count": 5,
   "metadata": {
    "id": "3vECZ9pkwCY0"
   },
   "outputs": [
    {
     "name": "stdout",
     "output_type": "stream",
     "text": [
      "Banyak murid: 6\n",
      "Tinggi murid 1: 153\n",
      "Tinggi murid 2: 155\n",
      "Tinggi murid 3: 160\n",
      "Tinggi murid 4: 159\n",
      "Tinggi murid 5: 167\n",
      "Tinggi murid 6: 166\n",
      "\n",
      "Ada 2 anak kepala sekolah yang mungkin\n"
     ]
    }
   ],
   "source": [
    "# PROGRAM soal4\n",
    "# untuk menyelesaikan permasalahan ini, kita hanya\n",
    "# perlu memperhatikan kasus banyak murid > 2.\n",
    "# (karena tidak ada murid yang memenuhi ketika <=2)\n",
    "# \n",
    "# program akan melakukan iterasi untuk pembacaan tinggi\n",
    "# dan pengecekan murid yang sesuai. untuk setiap iterasi\n",
    "# ada tiga variabel t0, t, t1 untuk menyimpan tinggi\n",
    "# murid di depan, tinggi murid di tengah, dan tinggi\n",
    "# murid di belakang. setelah pengecekan dilakukan, akan\n",
    "# dilakukan subtitusi (t0, t) <-- (t, t1)\n",
    "\n",
    "# VARIABEL\n",
    "N = int(input('Banyak murid: '))\n",
    "hasil = 0   # banyak anak yang sesuai kriteria\n",
    "\n",
    "# HITUNGAN PROGRAM\n",
    "if N>2:\n",
    "    t0 = int(input('Tinggi murid 1: '))\n",
    "    t  = int(input('Tinggi murid 2: '))\n",
    "    \n",
    "    for ke in range(3, N+1):\n",
    "        t1 = int(input('Tinggi murid {}: '.format(ke)))\n",
    "        \n",
    "        #cek apakah murid di tengah, t, memenuhi kriteria\n",
    "        if t0 < t > t1:\n",
    "            hasil += 1\n",
    "            \n",
    "        # lakukan subtitusi\n",
    "        t0, t = t, t1\n",
    "        \n",
    "            \n",
    "print()\n",
    "print('Ada', hasil, 'anak kepala sekolah yang mungkin')"
   ]
  }
 ],
 "metadata": {
  "colab": {
   "name": "Praktikum 3 MA2151 Sikomat 2020",
   "provenance": []
  },
  "kernelspec": {
   "display_name": "Python 3",
   "language": "python",
   "name": "python3"
  },
  "language_info": {
   "codemirror_mode": {
    "name": "ipython",
    "version": 3
   },
   "file_extension": ".py",
   "mimetype": "text/x-python",
   "name": "python",
   "nbconvert_exporter": "python",
   "pygments_lexer": "ipython3",
   "version": "3.8.5"
  }
 },
 "nbformat": 4,
 "nbformat_minor": 1
}
