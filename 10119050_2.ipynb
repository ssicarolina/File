{
 "cells": [
  {
   "cell_type": "markdown",
   "metadata": {
    "colab_type": "text",
    "id": "27GJn8MiCs0z"
   },
   "source": [
    "# **Praktikum 2 MA2151 Sikomat 2020**\n",
    "\n",
    "Nama Lengkap: (Carolina Sinaga)\n",
    "\n",
    "NIM: (10119050)"
   ]
  },
  {
   "cell_type": "markdown",
   "metadata": {
    "colab_type": "text",
    "id": "xTznmTESOkuN"
   },
   "source": []
  },
  {
   "cell_type": "markdown",
   "metadata": {
    "colab_type": "text",
    "id": "gxcZOuBleuQn"
   },
   "source": [
    "\n",
    "\n",
    "## Skema Jawaban\n",
    "Penulisan program harus mengikuti skema seperti berikut - diawali dengan nama program, penjelasan mengenai program, variabel-variabel yang terlibat dengan keterangan, dan dilanjutkan dengan langkah programnya. Contoh dapat dilihat di kode berikut:\n",
    "\n",
    "```\n",
    "# Program nama-program\n",
    "# penjelasan mengenai hal yang dihitung (bisa beberapa baris)\n",
    "#\n",
    "# Variable:\n",
    "#   ... penjelasan\n",
    "#   ... penjelasan\n",
    "# beberapa variabel bertipe sama boleh ditulis sebaris, dipisah koma.\n",
    "#\n",
    "# hitungan program\n",
    "#\n",
    "```\n",
    "\n",
    "Program **hanya boleh** menggunakan instruksi sequential (berurutan) dan instruksi kondisional. Program **tidak boleh** memakai variabel array (berindeks) [dan instruksi pengulangan, apalagi fungsi]. Format keluaran diatur supaya mudah dibaca."
   ]
  },
  {
   "cell_type": "markdown",
   "metadata": {
    "colab_type": "text",
    "id": "sO3JNVj8fbH0"
   },
   "source": [
    "## 1 (Pengurutan Sederhana*)\n",
    "\n",
    "Buat program Python untuk membaca empat bilangan bulat A, B, C dan D, lalu mencetak\n",
    "bilangan yang terbesar. Program **tidak boleh** menggunakan operator logika AND, OR, dan\n",
    "NOT. Ujilah program tersebut dengan data sebagai berikut:\n",
    "\n",
    "1.  A=10, B=20, C=30, D=40\n",
    "2.  A=40, B=20, C=10, D=30\n",
    "3.  A=20, B=10, C=40, D=30\n",
    "4.  A=10, B=10, C=10, D=30\n",
    "\n",
    "\n"
   ]
  },
  {
   "cell_type": "code",
   "execution_count": 1,
   "metadata": {
    "colab": {},
    "colab_type": "code",
    "id": "aFot6PMZiLq5"
   },
   "outputs": [
    {
     "name": "stdout",
     "output_type": "stream",
     "text": [
      "Masukkan nilai A: 0\n",
      "Masukkan nilai B: 0\n",
      "Masukkan nilai C: 0\n",
      "Masukkan nilai D: 0\n"
     ]
    }
   ],
   "source": [
    "# Jawaban nomor 1\n",
    "# Program menentukan bilangan terbesar dari 4 bilangan diberikan\n",
    "# Variabel:\n",
    "# ab,c,d merupakan data integer\n",
    "a = int(input(\"Masukkan nilai A: \"))\n",
    "b = int(input(\"Masukkan nilai B: \"))\n",
    "c = int(input(\"Masukkan nilai C: \"))\n",
    "d = int(input(\"Masukkan nilai D: \"))\n",
    "#menguji kemungkinan yang ada\n",
    "\n",
    "if(a>b):\n",
    "  if(a>c):\n",
    "    if(a>d):\n",
    "      print(\"A adalah bilangan terbesar\")\n",
    "if(b>a):\n",
    "  if(b>c):\n",
    "    if(b>d):\n",
    "      print(\"B adalah bilangan terbesar\")\n",
    "if(c>a):\n",
    "  if(c>b):\n",
    "    if(c>d):\n",
    "      print(\"C adalah bilangan terbesar\")\n",
    "if(d>a):\n",
    "  if(d>b):\n",
    "    if(d>c):\n",
    "      print(\"D adalah bilangan terbesar\")"
   ]
  },
  {
   "cell_type": "markdown",
   "metadata": {
    "colab_type": "text",
    "id": "_uJXGz18f-2T"
   },
   "source": [
    "#2 (Kura-Kura vs Kancil 2: Electric Boogaloo)\n",
    "\n",
    "Seekor kura-kura berlari dari garis start dengan kecepatan $V_1$ cm/detik. $k$ detik kemudian seekor kancil mulai berlari dari garis start dengan kecepatan $V_2$ cm/detik. Buat program komputer dalam bahasa Python untuk menentukan waktu yang diperlukan kancil untuk menyusul kura-kura dan tentukan jaraknya dari garis start. Data $V_1$, $V_2$, dan $k$ dimasukkan dengan perintah input. Gunakan instruksi kondisional untuk menguji validasi data, yaitu $0<V_1<V_2$,\n",
    "dan $k > 0$. Bila data masukan tidak valid, program tidak melakukan perhitungan, melainkan\n",
    "mengeluarkan keterangan bahwa datanya tidak valid.\n",
    "Ujilah program tersebut dengan data-data berikut:\n",
    "\n",
    "1. $V_1= 3$, $V_2=7$  , dan $k=10$\n",
    "2. $V_1= 3$, $V_2=3.1$, dan $k=10$\n",
    "3. $V_1= 3$, $V_2=3$  , dan $k=10$\n",
    "4. $V_1= 3$, $V_2=2.5$, dan $k=10$\n",
    "\n",
    "Dan tampilkan hasilnya dalam bentuk tabel sebagai berikut:\n",
    "\n",
    "```\n",
    "V kura2     V kancil     k     waktu bertemu     jarak bertemu\n",
    "   .            .        .          .                 .\n",
    "   .            .        .          .                 .\n",
    "   .            .        .          .                 .\n",
    "   .            .        .          .                 .\n",
    "\n",
    "```"
   ]
  },
  {
   "cell_type": "code",
   "execution_count": null,
   "metadata": {
    "colab": {
     "base_uri": "https://localhost:8080/",
     "height": 85
    },
    "colab_type": "code",
    "id": "TMzkB9oxiMk7",
    "outputId": "e0ca8759-81eb-4ef1-ac10-c3f3e4e393f8"
   },
   "outputs": [],
   "source": [
    "# Program kura-kura-kancil\n",
    "# Menghitung waktu yang diperlukan kancil dengan kecepatan V2 cm/detik\n",
    "# untuk menyusul kura-kura dengan kecepatan V1 cm/detik jika kancil mulai bergerak k detik lebih akhir daripada kura-kura\n",
    "#  Variabel:\n",
    "#   V1 kecepatan kura-kura (cm/detik)\n",
    "#   V2 kecepatan kancil (cm/detik)\n",
    "#   k selisih waktu mulai kancil dan kura-kura (detik)\n",
    "#   T waktu yang diperlukan kancil untuk menyusul kura-kura\n",
    "#   D jarak kancil menyusul kura-kura dari garis start\n",
    "#\n",
    "\n",
    "\n",
    "V1 = float(input(\"Masukkan kecepatan kura-kura (cm/detik): \"))\n",
    "V2 = float(input(\"Masukkan kecepatan kancil (cm/detik): \"))\n",
    "k  = float(input(\"Masukkan waktu kancil mulai menyyusul(detik): \"))\n",
    "\n",
    "if (V1 > 0) and (V2 > V1):  #kondisi  instruksi kondisional untuk menguji validasi data, yaitu  0<V1<V2 , dan  k>0\n",
    "    if k > 0:\n",
    "        T = V1*k/(V2-V1)\n",
    "        D = V2*T\n",
    "        print(\"_____________________________________________________________________\")\n",
    "        print(\"| V kura-kura |  V kancil   |   k   | Waktu bertemu | Jarak bertemu |\")\n",
    "        print(\"|_____________|_____________|_______|_______________|_______________|\")\n",
    "        print(\"| %11.1f |\"%V1, \"%11.1f |\"%V2, \"%5.1f |\"%k,\n",
    "            \"%13.2f |\"%T, \"%13.2f |\"%D)\n",
    "    elif k <= 0  :  # jika instruksi kondisional di atas tidak benar\n",
    "        print(\"Data tidak Valid\")\n",
    "else : # jika instruksi kondisional di atas tidak benar\n",
    "    print(\"Data tidak Valid\")"
   ]
  },
  {
   "cell_type": "markdown",
   "metadata": {
    "colab_type": "text",
    "id": "4o0fhCDWMJdT"
   },
   "source": [
    "#3 (*Prepare for Trouble, and Make It Double, eh Triple*)\n",
    "\n",
    "Menyelesaikan persamaan kuadratik mungkin sudah menjadi makanan sehari-hari kalian. Namun, bagaimana dengan menyelesaikan persamaan kubik?\n",
    "\n",
    "Ratusan tahun lalu, Cardano dan Ferro berhasil menemukan akar dari sebarang sukubanyak berderajat tiga berkoefisien real. Di praktikum ini, Anda akan mereplikasi (sebagian) cara Cardano menemukan akar tersebut.\n",
    "Persamaan kubik yang ditinjau di praktikum ini adalah $x^3+px+q=0$.\n",
    "\n",
    "a.  Seperti di kasus persamaan kuadratik, persamaan kubik juga mengenal konsep \"diskriminan\" untuk menentukan jenis solusi persamaan ini. Untuk persamaan berbentuk seperti di atas, diskriminannya adalah $\\Delta=4p^3+27q^2$.\n",
    "\n",
    "*   Jika $\\Delta>0$, persamaan punya satu akar real dan dua akar kompleks (tak real).\n",
    "*   Jika $\\Delta=0$, persamaan punya tiga akar real, dengan dua di antaranya kembar.\n",
    "*   Jika $\\Delta<0$, persamaan punya tiga akar real.\n",
    "\n",
    "[Mengapa persamaan di atas selalu punya akar real? Anda bisa membuktikan hal ini dengan metode di Matematika 1A :D]\n",
    "\n",
    "Buatlah program Python yang menerima masukan koefisien $(p,q)$, dan mengeluarkan jenis akar yang dimilki persamaan tersebut.\n",
    "\n",
    "b. (salah satu) Akar real dari persamaan di atas adalah $$     {\\displaystyle {\\sqrt[{3}]{-{\\frac {q}{2}}+{\\sqrt {{\\frac {q^{2}}{4}}+{\\frac {p^{3}}{27}}}}}}+{\\sqrt[{3}]{-{\\frac {q}{2}}-{\\sqrt {{\\frac {q^{2}}{4}}+{\\frac {p^{3}}{27}}}}}}.}$$\n",
    "Buatlah program Python yang menerima masukam koefisien $(p,q)$ dari persamaan di atas, dan mengeluarkan akar real tersebut (jika $\\Delta\\geq 0$).\n",
    "\n",
    "Gabungkan program Anda untuk bagian a dan b dalam satu program. Ujilah program di atas dengan sukubanyak $x^3+Ax+B$,$x^3-Bx+C$,$x^3+Ax+C$, dengan $A$ tiga digit pertama NIM Anda, $B$ dua digit selanjutnya, dan $C$ tiga digit terakhir NIM Anda.\n",
    "\n",
    "PS: Bagaimana dengan kasus umum (saat koefisien $x^2$ tidak nol? Untuk derajat kuartik, kuintik, dan sebagainya)? Bagaimana cara menemukan akar-akar yang lain? Silakan mengambil Teori Galois :D\n"
   ]
  },
  {
   "cell_type": "code",
   "execution_count": null,
   "metadata": {
    "colab": {},
    "colab_type": "code",
    "id": "JZWJxabwRlPx"
   },
   "outputs": [],
   "source": [
    "# a. Menentukan jenis solusi persamaan kubik\n",
    "print(\"Bentuk Persamaan x^3 +px + q = 0\")\n",
    "p = int(input(\"Masukkan nilai p: \"))\n",
    "q = int(input(\"Masukkan nilai q: \"))\n",
    "D = 4*p**3 + 27*q**2 \n",
    "k = 0\n",
    "if D > 0 :\n",
    "    k = \"persamaan punya satu akar real dan dua akar kompleks\"\n",
    "elif D == 0 :\n",
    "    k = \"persamaan punya tiga akar real, dengan dua diantaranya kembar\"\n",
    "else : # untuk D<0\n",
    "    k = \"persamaan punya tiga akar real\"\n",
    "print(\"Persamaan x^3 +\",p,\"x +\",q,\"solusi\",k)\n",
    "\n",
    "# b.  Menentukan nilai salah satu akar dari persamaan kubik yang diberikan\n",
    "if D >= 0 :\n",
    "    a = (p/3)**3\n",
    "    b = q/2\n",
    "    c = b**2\n",
    "    d = (a + c)**0.5\n",
    "    e = 1/3\n",
    "    f = (d - b)**e\n",
    "    g = (-d-b)**e\n",
    "    akar = f + g\n",
    "print(\"Salah satu akar dari persamaan kubik yang diberikan adalah: \", akar)"
   ]
  },
  {
   "cell_type": "markdown",
   "metadata": {
    "colab_type": "text",
    "id": "dzFNRhKpVtef"
   },
   "source": [
    "#4 (Verifikasi Segitiga)\n",
    "\n",
    "Diberikan koordinat Kartesian tiga titik $P$, $Q$, $R$ (diwakili enam variabel $Px,Py,Qx,Qy,Rx,Ry$). Buatlah program Python untuk menentukan posisi yang dibentuk tiga titik ini - segaris, membentuk segitiga lancip, segitiga siku-siku, atau segitiga tumpul, atau ada dua titik yang berada di posisi yang sama.\n",
    "\n",
    "Ujilah program Anda dengan memakai titik $(A,B),(B,C),(C,A)$ dan $(A,C),(B,A),(C,B)$, dengan $A$,$B$,$C$ didefinisikan seperti di nomor 3. \n"
   ]
  },
  {
   "cell_type": "code",
   "execution_count": 3,
   "metadata": {
    "colab": {},
    "colab_type": "code",
    "id": "XLmnZNdg67jr"
   },
   "outputs": [
    {
     "name": "stdout",
     "output_type": "stream",
     "text": [
      "Masukkan letak titik P pada sumbu x: 1\n",
      "Masukkan letak titik P pada sumbu y : 1\n",
      "Masukkan letak titik Q pada sumbu x: 4\n",
      "Masukkan letak titik Q pada sumbu y: 1\n",
      "Masukkan letak titik R pada sumbu x: 4\n",
      "Masukkan letak titik R pada sumbu y: 4\n",
      "panjang sisi pertama:  3.0\n",
      "panjang sisi kedua:  4.242640687119285\n",
      "panjang sisi ketiga:  3.0\n",
      "panjang sisi terbesar:  4.242640687119285\n",
      "nilai d: 6.0\n",
      "nilai e: 18.0\n",
      "nilai f: 17.999999999999996\n",
      "segitiga lancip\n"
     ]
    }
   ],
   "source": [
    "# -*- coding: utf-8 -*-\n",
    "\"\"\"\n",
    "Created on Mon Sep  7 07:52:05 2020\n",
    "\n",
    "@author: Carolina\n",
    "\"\"\"\n",
    "\n",
    "\n",
    "# program menentukan bentuk bidang di kartesius x dan y\n",
    "# jika diketahui titik x dan y\n",
    "\n",
    "# Variabel:\n",
    "# Px, Py, Rx, Ry, Rx,Rz, a,b,c,d,e,f merupakan data float\n",
    "# k,l,m merupakan data float\n",
    "\n",
    "Px = float(input(\"Masukkan letak titik P pada sumbu x: \"))\n",
    "Py = float(input(\"Masukkan letak titik P pada sumbu y : \"))\n",
    "Qx = float(input(\"Masukkan letak titik Q pada sumbu x: \"))\n",
    "Qy = float(input(\"Masukkan letak titik Q pada sumbu y: \"))\n",
    "Rx = float(input(\"Masukkan letak titik R pada sumbu x: \"))\n",
    "Ry = float(input(\"Masukkan letak titik R pada sumbu y: \"))\n",
    "\n",
    "# menentukan panjang sisi pertama\n",
    "a1 = Qx-Rx\n",
    "a2 = Qy-Ry\n",
    "a = a1**2 + a2**2\n",
    "a = a**0.5\n",
    "\n",
    "# menentukan panjang sisi kedua\n",
    "b1 = Px-Rx\n",
    "b2 = Py-Ry\n",
    "b = b1**2 + b2**2\n",
    "b = b**0.5\n",
    "\n",
    "# menentukan panjang sisi ketiga\n",
    "c1 = Qx-Px\n",
    "c2 = Qy-Py\n",
    "c = c1**2 + c2**2\n",
    "c = c**0.5\n",
    "\n",
    "print(\"panjang sisi pertama: \",a)\n",
    "print(\"panjang sisi kedua: \",b)\n",
    "print(\"panjang sisi ketiga: \",c)\n",
    "\n",
    "# Algortima Untuk \n",
    "# Menentukan sisi terpanjang\n",
    "k = 0 # k sebagai variabel menyimpan sisi yang terpanjang\n",
    "if(a>b):\n",
    "    if(a>c):\n",
    "      k = a\n",
    "      l = b\n",
    "      m = c\n",
    "elif(b>a):\n",
    "    if(b>c):\n",
    "      k = b\n",
    "      l = a\n",
    "      m = c\n",
    "    \n",
    "elif(c>a):\n",
    "    if(c>b):\n",
    "      k = c\n",
    "      l = a\n",
    "      m = b\n",
    "else:\n",
    "    k = 0\n",
    "print(\"panjang sisi terbesar: \", k)\n",
    "\n",
    "        \n",
    "        \n",
    "        \n",
    "# Algoritma untuk memudahkan penulisan variabel dalam \n",
    "# algortima selanjunya \n",
    "d = l + m\n",
    "e = l**2 + m**2\n",
    "f = k**2\n",
    "bentuk = 0 # untuk mendefinisikan variabel bentuk terlebih dahulu agar\n",
    "           # dapat dibaca instruksi conditional pada algoritma di bawah\n",
    "\n",
    "print(\"nilai d:\",d)\n",
    "print(\"nilai e:\",e)\n",
    "print(\"nilai f:\",f)\n",
    "# Algortima untuk \n",
    "# Menentukan bentuk bidang yang dibentuk dari \n",
    "# koordinat titik yang diberikan\n",
    "if k >= d :\n",
    "    print(\"bukan segitiga karena membentuk segaris\")\n",
    "elif f == e :\n",
    "    bentuk = \"segitiga siku-siku\"\n",
    "    print(bentuk)\n",
    "elif f < e :\n",
    "    bentuk = \"segitiga lancip\"\n",
    "    print(bentuk)\n",
    "elif f > e :\n",
    "    bentuk = \"segitiga tumpul\"\n",
    "    print(bentuk)\n",
    "else:\n",
    "    print(\"bukan segitga karena ada dua titik yang berada di posisi yang sama\")"
   ]
  },
  {
   "cell_type": "code",
   "execution_count": null,
   "metadata": {},
   "outputs": [],
   "source": []
  }
 ],
 "metadata": {
  "colab": {
   "collapsed_sections": [],
   "name": "10119050_2",
   "provenance": []
  },
  "kernelspec": {
   "display_name": "Python 3",
   "language": "python",
   "name": "python3"
  },
  "language_info": {
   "codemirror_mode": {
    "name": "ipython",
    "version": 3
   },
   "file_extension": ".py",
   "mimetype": "text/x-python",
   "name": "python",
   "nbconvert_exporter": "python",
   "pygments_lexer": "ipython3",
   "version": "3.7.6"
  }
 },
 "nbformat": 4,
 "nbformat_minor": 1
}
