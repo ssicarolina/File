{
  "nbformat": 4,
  "nbformat_minor": 0,
  "metadata": {
    "colab": {
      "provenance": []
    },
    "kernelspec": {
      "name": "python3",
      "display_name": "Python 3"
    },
    "language_info": {
      "name": "python"
    }
  },
  "cells": [
    {
      "cell_type": "markdown",
      "source": [
        "#**INSTALLING PACKAGE**"
      ],
      "metadata": {
        "id": "4TSsjaavWaSf"
      }
    },
    {
      "cell_type": "code",
      "source": [
        "!pip install keras_tuner"
      ],
      "metadata": {
        "colab": {
          "base_uri": "https://localhost:8080/"
        },
        "id": "RiAmrDjBmW7E",
        "outputId": "59e07525-3a5b-4b62-94c9-eee379c53293"
      },
      "execution_count": null,
      "outputs": [
        {
          "output_type": "stream",
          "name": "stdout",
          "text": [
            "Looking in indexes: https://pypi.org/simple, https://us-python.pkg.dev/colab-wheels/public/simple/\n",
            "Collecting keras_tuner\n",
            "  Downloading keras_tuner-1.1.3-py3-none-any.whl (135 kB)\n",
            "\u001b[K     |████████████████████████████████| 135 kB 4.8 MB/s \n",
            "\u001b[?25hRequirement already satisfied: packaging in /usr/local/lib/python3.7/dist-packages (from keras_tuner) (21.3)\n",
            "Requirement already satisfied: numpy in /usr/local/lib/python3.7/dist-packages (from keras_tuner) (1.21.6)\n",
            "Collecting kt-legacy\n",
            "  Downloading kt_legacy-1.0.4-py3-none-any.whl (9.6 kB)\n",
            "Requirement already satisfied: tensorboard in /usr/local/lib/python3.7/dist-packages (from keras_tuner) (2.9.1)\n",
            "Requirement already satisfied: requests in /usr/local/lib/python3.7/dist-packages (from keras_tuner) (2.23.0)\n",
            "Requirement already satisfied: ipython in /usr/local/lib/python3.7/dist-packages (from keras_tuner) (7.9.0)\n",
            "Requirement already satisfied: traitlets>=4.2 in /usr/local/lib/python3.7/dist-packages (from ipython->keras_tuner) (5.1.1)\n",
            "Requirement already satisfied: prompt-toolkit<2.1.0,>=2.0.0 in /usr/local/lib/python3.7/dist-packages (from ipython->keras_tuner) (2.0.10)\n",
            "Requirement already satisfied: pygments in /usr/local/lib/python3.7/dist-packages (from ipython->keras_tuner) (2.6.1)\n",
            "Collecting jedi>=0.10\n",
            "  Downloading jedi-0.18.1-py2.py3-none-any.whl (1.6 MB)\n",
            "\u001b[K     |████████████████████████████████| 1.6 MB 33.5 MB/s \n",
            "\u001b[?25hRequirement already satisfied: pickleshare in /usr/local/lib/python3.7/dist-packages (from ipython->keras_tuner) (0.7.5)\n",
            "Requirement already satisfied: pexpect in /usr/local/lib/python3.7/dist-packages (from ipython->keras_tuner) (4.8.0)\n",
            "Requirement already satisfied: setuptools>=18.5 in /usr/local/lib/python3.7/dist-packages (from ipython->keras_tuner) (57.4.0)\n",
            "Requirement already satisfied: backcall in /usr/local/lib/python3.7/dist-packages (from ipython->keras_tuner) (0.2.0)\n",
            "Requirement already satisfied: decorator in /usr/local/lib/python3.7/dist-packages (from ipython->keras_tuner) (4.4.2)\n",
            "Requirement already satisfied: parso<0.9.0,>=0.8.0 in /usr/local/lib/python3.7/dist-packages (from jedi>=0.10->ipython->keras_tuner) (0.8.3)\n",
            "Requirement already satisfied: wcwidth in /usr/local/lib/python3.7/dist-packages (from prompt-toolkit<2.1.0,>=2.0.0->ipython->keras_tuner) (0.2.5)\n",
            "Requirement already satisfied: six>=1.9.0 in /usr/local/lib/python3.7/dist-packages (from prompt-toolkit<2.1.0,>=2.0.0->ipython->keras_tuner) (1.15.0)\n",
            "Requirement already satisfied: pyparsing!=3.0.5,>=2.0.2 in /usr/local/lib/python3.7/dist-packages (from packaging->keras_tuner) (3.0.9)\n",
            "Requirement already satisfied: ptyprocess>=0.5 in /usr/local/lib/python3.7/dist-packages (from pexpect->ipython->keras_tuner) (0.7.0)\n",
            "Requirement already satisfied: certifi>=2017.4.17 in /usr/local/lib/python3.7/dist-packages (from requests->keras_tuner) (2022.9.24)\n",
            "Requirement already satisfied: chardet<4,>=3.0.2 in /usr/local/lib/python3.7/dist-packages (from requests->keras_tuner) (3.0.4)\n",
            "Requirement already satisfied: idna<3,>=2.5 in /usr/local/lib/python3.7/dist-packages (from requests->keras_tuner) (2.10)\n",
            "Requirement already satisfied: urllib3!=1.25.0,!=1.25.1,<1.26,>=1.21.1 in /usr/local/lib/python3.7/dist-packages (from requests->keras_tuner) (1.24.3)\n",
            "Requirement already satisfied: protobuf<3.20,>=3.9.2 in /usr/local/lib/python3.7/dist-packages (from tensorboard->keras_tuner) (3.19.6)\n",
            "Requirement already satisfied: google-auth-oauthlib<0.5,>=0.4.1 in /usr/local/lib/python3.7/dist-packages (from tensorboard->keras_tuner) (0.4.6)\n",
            "Requirement already satisfied: tensorboard-data-server<0.7.0,>=0.6.0 in /usr/local/lib/python3.7/dist-packages (from tensorboard->keras_tuner) (0.6.1)\n",
            "Requirement already satisfied: absl-py>=0.4 in /usr/local/lib/python3.7/dist-packages (from tensorboard->keras_tuner) (1.3.0)\n",
            "Requirement already satisfied: google-auth<3,>=1.6.3 in /usr/local/lib/python3.7/dist-packages (from tensorboard->keras_tuner) (2.14.1)\n",
            "Requirement already satisfied: tensorboard-plugin-wit>=1.6.0 in /usr/local/lib/python3.7/dist-packages (from tensorboard->keras_tuner) (1.8.1)\n",
            "Requirement already satisfied: wheel>=0.26 in /usr/local/lib/python3.7/dist-packages (from tensorboard->keras_tuner) (0.38.3)\n",
            "Requirement already satisfied: werkzeug>=1.0.1 in /usr/local/lib/python3.7/dist-packages (from tensorboard->keras_tuner) (1.0.1)\n",
            "Requirement already satisfied: markdown>=2.6.8 in /usr/local/lib/python3.7/dist-packages (from tensorboard->keras_tuner) (3.4.1)\n",
            "Requirement already satisfied: grpcio>=1.24.3 in /usr/local/lib/python3.7/dist-packages (from tensorboard->keras_tuner) (1.50.0)\n",
            "Requirement already satisfied: pyasn1-modules>=0.2.1 in /usr/local/lib/python3.7/dist-packages (from google-auth<3,>=1.6.3->tensorboard->keras_tuner) (0.2.8)\n",
            "Requirement already satisfied: rsa<5,>=3.1.4 in /usr/local/lib/python3.7/dist-packages (from google-auth<3,>=1.6.3->tensorboard->keras_tuner) (4.9)\n",
            "Requirement already satisfied: cachetools<6.0,>=2.0.0 in /usr/local/lib/python3.7/dist-packages (from google-auth<3,>=1.6.3->tensorboard->keras_tuner) (5.2.0)\n",
            "Requirement already satisfied: requests-oauthlib>=0.7.0 in /usr/local/lib/python3.7/dist-packages (from google-auth-oauthlib<0.5,>=0.4.1->tensorboard->keras_tuner) (1.3.1)\n",
            "Requirement already satisfied: importlib-metadata>=4.4 in /usr/local/lib/python3.7/dist-packages (from markdown>=2.6.8->tensorboard->keras_tuner) (4.13.0)\n",
            "Requirement already satisfied: typing-extensions>=3.6.4 in /usr/local/lib/python3.7/dist-packages (from importlib-metadata>=4.4->markdown>=2.6.8->tensorboard->keras_tuner) (4.1.1)\n",
            "Requirement already satisfied: zipp>=0.5 in /usr/local/lib/python3.7/dist-packages (from importlib-metadata>=4.4->markdown>=2.6.8->tensorboard->keras_tuner) (3.10.0)\n",
            "Requirement already satisfied: pyasn1<0.5.0,>=0.4.6 in /usr/local/lib/python3.7/dist-packages (from pyasn1-modules>=0.2.1->google-auth<3,>=1.6.3->tensorboard->keras_tuner) (0.4.8)\n",
            "Requirement already satisfied: oauthlib>=3.0.0 in /usr/local/lib/python3.7/dist-packages (from requests-oauthlib>=0.7.0->google-auth-oauthlib<0.5,>=0.4.1->tensorboard->keras_tuner) (3.2.2)\n",
            "Installing collected packages: jedi, kt-legacy, keras-tuner\n",
            "Successfully installed jedi-0.18.1 keras-tuner-1.1.3 kt-legacy-1.0.4\n"
          ]
        }
      ]
    },
    {
      "cell_type": "code",
      "execution_count": null,
      "metadata": {
        "id": "a021NGHh-blT"
      },
      "outputs": [],
      "source": [
        "import pandas as pd\n",
        "import numpy as np\n",
        "import matplotlib.pyplot as plt\n",
        "\n",
        "from sklearn.preprocessing import StandardScaler\n",
        "from sklearn.model_selection import train_test_split\n",
        "from sklearn.metrics import mean_absolute_error\n",
        "\n",
        "from tensorflow import keras\n",
        "from tensorflow.keras import layers\n",
        "from tensorflow.keras.utils import plot_model\n",
        "from keras_tuner.tuners import RandomSearch"
      ]
    },
    {
      "cell_type": "markdown",
      "source": [
        "#**PREPARING DATA**"
      ],
      "metadata": {
        "id": "2W6DwMNP-mSd"
      }
    },
    {
      "cell_type": "code",
      "source": [
        "def preparingData():\n",
        "    df_raw = pd.read_excel(\"data.xlsx\")\n",
        "    df = df_raw[[\"delta pressure\",\"Leak rate (STB/d)\",\"leak_location\"]]\n",
        "    return df "
      ],
      "metadata": {
        "id": "zFQbnLXbmi8d"
      },
      "execution_count": null,
      "outputs": []
    },
    {
      "cell_type": "code",
      "source": [
        "df = preparingData()"
      ],
      "metadata": {
        "id": "dza8SIP--vjf"
      },
      "execution_count": null,
      "outputs": []
    },
    {
      "cell_type": "code",
      "source": [
        "df.head()"
      ],
      "metadata": {
        "colab": {
          "base_uri": "https://localhost:8080/",
          "height": 206
        },
        "id": "s2gq0CMR-9Q_",
        "outputId": "6653e804-5f6d-4b7e-cf1a-c18938b3e7d1"
      },
      "execution_count": null,
      "outputs": [
        {
          "output_type": "execute_result",
          "data": {
            "text/plain": [
              "   delta pressure  Leak rate (STB/d)  leak_location\n",
              "0        186.5110                280            200\n",
              "1        186.5202                280            400\n",
              "2        186.5295                280            600\n",
              "3        186.5388                280            800\n",
              "4        186.5473                280           1000"
            ],
            "text/html": [
              "\n",
              "  <div id=\"df-9a45d950-cf2e-4ddc-99fa-6c875e2bfd0c\">\n",
              "    <div class=\"colab-df-container\">\n",
              "      <div>\n",
              "<style scoped>\n",
              "    .dataframe tbody tr th:only-of-type {\n",
              "        vertical-align: middle;\n",
              "    }\n",
              "\n",
              "    .dataframe tbody tr th {\n",
              "        vertical-align: top;\n",
              "    }\n",
              "\n",
              "    .dataframe thead th {\n",
              "        text-align: right;\n",
              "    }\n",
              "</style>\n",
              "<table border=\"1\" class=\"dataframe\">\n",
              "  <thead>\n",
              "    <tr style=\"text-align: right;\">\n",
              "      <th></th>\n",
              "      <th>delta pressure</th>\n",
              "      <th>Leak rate (STB/d)</th>\n",
              "      <th>leak_location</th>\n",
              "    </tr>\n",
              "  </thead>\n",
              "  <tbody>\n",
              "    <tr>\n",
              "      <th>0</th>\n",
              "      <td>186.5110</td>\n",
              "      <td>280</td>\n",
              "      <td>200</td>\n",
              "    </tr>\n",
              "    <tr>\n",
              "      <th>1</th>\n",
              "      <td>186.5202</td>\n",
              "      <td>280</td>\n",
              "      <td>400</td>\n",
              "    </tr>\n",
              "    <tr>\n",
              "      <th>2</th>\n",
              "      <td>186.5295</td>\n",
              "      <td>280</td>\n",
              "      <td>600</td>\n",
              "    </tr>\n",
              "    <tr>\n",
              "      <th>3</th>\n",
              "      <td>186.5388</td>\n",
              "      <td>280</td>\n",
              "      <td>800</td>\n",
              "    </tr>\n",
              "    <tr>\n",
              "      <th>4</th>\n",
              "      <td>186.5473</td>\n",
              "      <td>280</td>\n",
              "      <td>1000</td>\n",
              "    </tr>\n",
              "  </tbody>\n",
              "</table>\n",
              "</div>\n",
              "      <button class=\"colab-df-convert\" onclick=\"convertToInteractive('df-9a45d950-cf2e-4ddc-99fa-6c875e2bfd0c')\"\n",
              "              title=\"Convert this dataframe to an interactive table.\"\n",
              "              style=\"display:none;\">\n",
              "        \n",
              "  <svg xmlns=\"http://www.w3.org/2000/svg\" height=\"24px\"viewBox=\"0 0 24 24\"\n",
              "       width=\"24px\">\n",
              "    <path d=\"M0 0h24v24H0V0z\" fill=\"none\"/>\n",
              "    <path d=\"M18.56 5.44l.94 2.06.94-2.06 2.06-.94-2.06-.94-.94-2.06-.94 2.06-2.06.94zm-11 1L8.5 8.5l.94-2.06 2.06-.94-2.06-.94L8.5 2.5l-.94 2.06-2.06.94zm10 10l.94 2.06.94-2.06 2.06-.94-2.06-.94-.94-2.06-.94 2.06-2.06.94z\"/><path d=\"M17.41 7.96l-1.37-1.37c-.4-.4-.92-.59-1.43-.59-.52 0-1.04.2-1.43.59L10.3 9.45l-7.72 7.72c-.78.78-.78 2.05 0 2.83L4 21.41c.39.39.9.59 1.41.59.51 0 1.02-.2 1.41-.59l7.78-7.78 2.81-2.81c.8-.78.8-2.07 0-2.86zM5.41 20L4 18.59l7.72-7.72 1.47 1.35L5.41 20z\"/>\n",
              "  </svg>\n",
              "      </button>\n",
              "      \n",
              "  <style>\n",
              "    .colab-df-container {\n",
              "      display:flex;\n",
              "      flex-wrap:wrap;\n",
              "      gap: 12px;\n",
              "    }\n",
              "\n",
              "    .colab-df-convert {\n",
              "      background-color: #E8F0FE;\n",
              "      border: none;\n",
              "      border-radius: 50%;\n",
              "      cursor: pointer;\n",
              "      display: none;\n",
              "      fill: #1967D2;\n",
              "      height: 32px;\n",
              "      padding: 0 0 0 0;\n",
              "      width: 32px;\n",
              "    }\n",
              "\n",
              "    .colab-df-convert:hover {\n",
              "      background-color: #E2EBFA;\n",
              "      box-shadow: 0px 1px 2px rgba(60, 64, 67, 0.3), 0px 1px 3px 1px rgba(60, 64, 67, 0.15);\n",
              "      fill: #174EA6;\n",
              "    }\n",
              "\n",
              "    [theme=dark] .colab-df-convert {\n",
              "      background-color: #3B4455;\n",
              "      fill: #D2E3FC;\n",
              "    }\n",
              "\n",
              "    [theme=dark] .colab-df-convert:hover {\n",
              "      background-color: #434B5C;\n",
              "      box-shadow: 0px 1px 3px 1px rgba(0, 0, 0, 0.15);\n",
              "      filter: drop-shadow(0px 1px 2px rgba(0, 0, 0, 0.3));\n",
              "      fill: #FFFFFF;\n",
              "    }\n",
              "  </style>\n",
              "\n",
              "      <script>\n",
              "        const buttonEl =\n",
              "          document.querySelector('#df-9a45d950-cf2e-4ddc-99fa-6c875e2bfd0c button.colab-df-convert');\n",
              "        buttonEl.style.display =\n",
              "          google.colab.kernel.accessAllowed ? 'block' : 'none';\n",
              "\n",
              "        async function convertToInteractive(key) {\n",
              "          const element = document.querySelector('#df-9a45d950-cf2e-4ddc-99fa-6c875e2bfd0c');\n",
              "          const dataTable =\n",
              "            await google.colab.kernel.invokeFunction('convertToInteractive',\n",
              "                                                     [key], {});\n",
              "          if (!dataTable) return;\n",
              "\n",
              "          const docLinkHtml = 'Like what you see? Visit the ' +\n",
              "            '<a target=\"_blank\" href=https://colab.research.google.com/notebooks/data_table.ipynb>data table notebook</a>'\n",
              "            + ' to learn more about interactive tables.';\n",
              "          element.innerHTML = '';\n",
              "          dataTable['output_type'] = 'display_data';\n",
              "          await google.colab.output.renderOutput(dataTable, element);\n",
              "          const docLink = document.createElement('div');\n",
              "          docLink.innerHTML = docLinkHtml;\n",
              "          element.appendChild(docLink);\n",
              "        }\n",
              "      </script>\n",
              "    </div>\n",
              "  </div>\n",
              "  "
            ]
          },
          "metadata": {},
          "execution_count": 20
        }
      ]
    },
    {
      "cell_type": "markdown",
      "source": [
        "#**PREPROCESSING DATA**"
      ],
      "metadata": {
        "id": "keDBZjYi_WcW"
      }
    },
    {
      "cell_type": "code",
      "source": [
        "def preprocessingData(df):\n",
        "    X = df.iloc[:,:2]       # x disini sebagai input yaitu leak rate ,\n",
        "        # mengambil iloc[baris,kolom] = [:,:2] yaitu data pada semua baris di kolom 0,1\n",
        "    y = df[\"leak_location\"] # y disini sebagai input yaitu leak_location\n",
        "    X_train, X_test, y_train, y_test = train_test_split(X,y,test_size=0.2,random_state=50)\n",
        "    return X_train, X_test, y_train,y_test"
      ],
      "metadata": {
        "id": "aHk84AGW_e1M"
      },
      "execution_count": null,
      "outputs": []
    },
    {
      "cell_type": "code",
      "source": [
        "X_train, X_test, y_train,y_test = preprocessingData(df)"
      ],
      "metadata": {
        "id": "-fDZqSUlAFZ4"
      },
      "execution_count": null,
      "outputs": []
    },
    {
      "cell_type": "code",
      "source": [
        "print(f'Jumlah x_train : {len(X_train)}')\n",
        "print(f'Jumlah y_train : {len(y_train)}')\n",
        "print()\n",
        "print(f'Jumlah x_test : {len(X_test)}')\n",
        "print(f'Jumlah y_test : {len(y_test)}')"
      ],
      "metadata": {
        "colab": {
          "base_uri": "https://localhost:8080/"
        },
        "id": "vqT936T9ANvf",
        "outputId": "bfc2bc4e-bf16-4055-dd34-a2cb84717e9a"
      },
      "execution_count": null,
      "outputs": [
        {
          "output_type": "stream",
          "name": "stdout",
          "text": [
            "Jumlah x_train : 1596\n",
            "Jumlah y_train : 1596\n",
            "\n",
            "Jumlah x_test : 399\n",
            "Jumlah y_test : 399\n"
          ]
        }
      ]
    },
    {
      "cell_type": "markdown",
      "source": [
        "#**BASELINE ANALYSIS MODEL**"
      ],
      "metadata": {
        "id": "BgeNwx1pEDtN"
      }
    },
    {
      "cell_type": "code",
      "source": [
        "def createFeaturesScallingLayer(X_train):\n",
        "    normalize = layers.Normalization()\n",
        "    normalize.adapt(X_train)\n",
        "    return normalize"
      ],
      "metadata": {
        "id": "yjQCajT_ESsA"
      },
      "execution_count": null,
      "outputs": []
    },
    {
      "cell_type": "code",
      "source": [
        "normalize = createFeaturesScallingLayer(X_train)"
      ],
      "metadata": {
        "id": "8FYu7DYWEoVi"
      },
      "execution_count": null,
      "outputs": []
    },
    {
      "cell_type": "code",
      "source": [
        "# membuat deep learning nya\n",
        "def baselineANN():\n",
        "    model = keras.Sequential() # layer ditambahkan manual satu per satu \n",
        "    model.add(layers.InputLayer(input_shape = (2,))) \n",
        "    # 2 karena kita diatas hanya pakai 2 input yaitu delta pressure dan Leak rate (STB/d)\n",
        "    model.add(normalize) # menormalisasikan agar performa lebih baik dan komputasi lebih cepat\n",
        "    model.add(layers.Dense(64,activation=\"relu\"))   #layer tersembunyi pertama dengan 64 neuron\n",
        "    model.add(layers.Dense(64,activation=\"relu\"))   #layer tersembunyi kedua debagb 64 neuron\n",
        "    model.add(layers.Dense(1,name=\"output_layer\"))  # 1 output layer dengan 1 neuron\n",
        "\n",
        "    model.compile(loss=\"mean_absolute_error\", \n",
        "                  optimizer=keras.optimizers.Adam(),\n",
        "                  metrics = [\"mean_absolute_error\"]) # untuk nampilin hasil mean absolute error\n",
        "    return model"
      ],
      "metadata": {
        "id": "tfH13pjlE5a1"
      },
      "execution_count": null,
      "outputs": []
    },
    {
      "cell_type": "code",
      "source": [
        "baselineModel = baselineANN()"
      ],
      "metadata": {
        "id": "p4R9Pht3GXAm"
      },
      "execution_count": null,
      "outputs": []
    },
    {
      "cell_type": "code",
      "source": [
        "plot_model(baselineModel,show_shapes=True,dpi=100, show_layer_names=True)"
      ],
      "metadata": {
        "colab": {
          "base_uri": "https://localhost:8080/",
          "height": 555
        },
        "id": "6sYgqnB5Icao",
        "outputId": "4f9ab30c-2a7b-4194-ebfd-eae23088deed"
      },
      "execution_count": null,
      "outputs": [
        {
          "output_type": "execute_result",
          "data": {
            "image/png": "[encoded data removed]",
            "text/plain": [
              "<IPython.core.display.Image object>"
            ]
          },
          "metadata": {},
          "execution_count": 15
        }
      ]
    },
    {
      "cell_type": "markdown",
      "source": [
        "Model baseline di-training dengan data training sebanyak 200 epochs. Kemudian, dilakukan evaluasi model menggunakan data testing dan dihasilkan error yang semakin lama semakin mengecil seperti pada plot. "
      ],
      "metadata": {
        "id": "Lp98ZTZRGpKx"
      }
    },
    {
      "cell_type": "code",
      "source": [
        "def trainModel(model,X_train,y_train):\n",
        "    history = model.fit(X_train,y_train, epochs=200,steps_per_epoch=25, validation_split = 0.2, verbose = 0)\n",
        "    return history"
      ],
      "metadata": {
        "id": "ZnnoRxXfG9fa"
      },
      "execution_count": null,
      "outputs": []
    },
    {
      "cell_type": "code",
      "source": [
        "history = trainModel(baselineModel, X_train, y_train)"
      ],
      "metadata": {
        "id": "MXVh1Iz8G-5W"
      },
      "execution_count": null,
      "outputs": []
    },
    {
      "cell_type": "code",
      "source": [
        "def plot_loss(history):\n",
        "    plt.plot(history.history['loss'],label='loss')\n",
        "    plt.plot(history.history['val_loss'],label='val_loss')\n",
        "    plt.xlabel('Epoch')\n",
        "    plt.ylabel('Error[Leak location]')\n",
        "    plt.legend()\n",
        "    plt.grid(True)"
      ],
      "metadata": {
        "id": "YNcWA_kjG_aS"
      },
      "execution_count": null,
      "outputs": []
    },
    {
      "cell_type": "code",
      "source": [
        "plot_loss(history)"
      ],
      "metadata": {
        "colab": {
          "base_uri": "https://localhost:8080/",
          "height": 279
        },
        "id": "UuNe_Tc5J_U3",
        "outputId": "5f68faa3-15a6-45c2-b950-60b79f6c7268"
      },
      "execution_count": null,
      "outputs": [
        {
          "output_type": "display_data",
          "data": {
            "text/plain": [
              "<Figure size 432x288 with 1 Axes>"
            ],
            "image/png": "[encoded data removed]"
          },
          "metadata": {
            "needs_background": "light"
          }
        }
      ]
    },
    {
      "cell_type": "code",
      "source": [
        "def plot_predVStrue(model,X,y):\n",
        "    predictions = model.predict(X).flatten()\n",
        "    a = plt.axes(aspect='equal')\n",
        "    plt.scatter(predictions,y)\n",
        "    plt.xlabel('True Values [Leak location]')\n",
        "    plt.ylabel('Predictions [Leak location]')\n",
        "    lims = [0,80000]\n",
        "    plt.xlim(lims)\n",
        "    plt.ylim(lims)\n",
        "    _ = plt.plot(lims,lims,color='red')\n"
      ],
      "metadata": {
        "id": "tV1Qr4ujDg6N"
      },
      "execution_count": null,
      "outputs": []
    },
    {
      "cell_type": "code",
      "source": [
        "plot_predVStrue(baselineModel,X_test, y_test)"
      ],
      "metadata": {
        "colab": {
          "base_uri": "https://localhost:8080/",
          "height": 301
        },
        "id": "VV4Shr_kLBcu",
        "outputId": "336459a7-7ddf-4e18-f2dc-35181d6e6e9c"
      },
      "execution_count": null,
      "outputs": [
        {
          "output_type": "stream",
          "name": "stdout",
          "text": [
            "13/13 [==============================] - 0s 2ms/step\n"
          ]
        },
        {
          "output_type": "display_data",
          "data": {
            "text/plain": [
              "<Figure size 432x288 with 1 Axes>"
            ],
            "image/png": "[encoded data removed]"
          },
          "metadata": {
            "needs_background": "light"
          }
        }
      ]
    },
    {
      "cell_type": "code",
      "source": [
        "def plot_perLeakRate(model,X,y):\n",
        "    idx = X.index[X['Leak rate (STB/d)'] == 280].tolist()\n",
        "    d_280 = X.loc[idx]\n",
        "    pred_280 = model.predict(d_280)\n",
        "    sim_280 = y.loc[idx]\n",
        "\n",
        "    idx = X.index[X['Leak rate (STB/d)'] == 560].tolist()\n",
        "    d_560 = X.loc[idx]\n",
        "    pred_560 = model.predict(d_560)\n",
        "    sim_560 = y.loc[idx]\n",
        "\n",
        "    idx = X.index[X['Leak rate (STB/d)'] == 840].tolist()\n",
        "    d_840 = X.loc[idx]\n",
        "    pred_840 = model.predict(d_840)\n",
        "    sim_840 = y.loc[idx]\n",
        "\n",
        "    idx = X.index[X['Leak rate (STB/d)'] == 1120].tolist()\n",
        "    d_1120 = X.loc[idx]\n",
        "    pred_1120 = model.predict(d_1120)\n",
        "    sim_1120 = y.loc[idx]\n",
        "\n",
        "    idx = X.index[X['Leak rate (STB/d)'] == 1400].tolist()\n",
        "    d_1400 = X.loc[idx]\n",
        "    pred_1400 = model.predict(d_1400)\n",
        "    sim_1400 = y.loc[idx]\n",
        "\n",
        "    fig,axs = plt.subplots(2, 3, figsize = (15,10))\n",
        "    axs[0,0].plot( sim_280, sim_280, color='red')\n",
        "    axs[0,0].scatter(pred_280, sim_280, color='blue')\n",
        "    axs[0,0].set_title('Rate 280 STB/D')\n",
        "\n",
        "    axs[0,1].plot( sim_560, sim_560, color='red')\n",
        "    axs[0,1].scatter(pred_560, sim_560, color='orange')\n",
        "    axs[0,1].set_title('Rate 560 STB/D')\n",
        "\n",
        "    axs[0,2].plot( sim_840, sim_840, color='red')\n",
        "    axs[0,2].scatter(pred_840, sim_840, color='green')\n",
        "    axs[0,2].set_title('Rate 840 STB/D')\n",
        "\n",
        "    axs[1,0].plot( sim_1120, sim_1120, color='red')\n",
        "    axs[1,0].scatter(pred_1120, sim_1120, color='purple')\n",
        "    axs[1,0].set_title('Rate 1120 STB/D')\n",
        "\n",
        "    axs[1,1].plot( sim_1400, sim_1400, color='red')\n",
        "    axs[1,1].scatter(pred_1400, sim_1400, color='brown')\n",
        "    axs[1,1].set_title('Rate 1400 STB/D')\n",
        "\n",
        "    for ax in axs.flat:\n",
        "        ax.set(xlabel='prediction', ylabel='simulation')"
      ],
      "metadata": {
        "id": "SIhltMj4LYI6"
      },
      "execution_count": null,
      "outputs": []
    },
    {
      "cell_type": "code",
      "source": [
        "plot_perLeakRate(baselineModel,X_test,y_test)"
      ],
      "metadata": {
        "colab": {
          "base_uri": "https://localhost:8080/",
          "height": 712
        },
        "id": "F5YVqm3GPNYz",
        "outputId": "63921905-0b4b-49cc-9535-70131d896d61"
      },
      "execution_count": null,
      "outputs": [
        {
          "output_type": "stream",
          "name": "stdout",
          "text": [
            "3/3 [==============================] - 0s 4ms/step\n",
            "3/3 [==============================] - 0s 4ms/step\n",
            "3/3 [==============================] - 0s 4ms/step\n",
            "3/3 [==============================] - 0s 5ms/step\n",
            "3/3 [==============================] - 0s 3ms/step\n"
          ]
        },
        {
          "output_type": "display_data",
          "data": {
            "text/plain": [
              "<Figure size 1080x720 with 6 Axes>"
            ],
            "image/png": "[encoded data removed]"
          },
          "metadata": {
            "needs_background": "light"
          }
        }
      ]
    },
    {
      "cell_type": "code",
      "source": [
        "def evaluate(model,X_train,X_test, y_train, y_test):\n",
        "    print(f'Mean absolute error for train data {mean_absolute_error(y_train,model.predict(X_train)) :.5f}')\n",
        "    print(f'Mean absolute error for test data {mean_absolute_error(y_test,model.predict(X_test)) :.5f}')"
      ],
      "metadata": {
        "id": "FjqY7gqUPT5r"
      },
      "execution_count": null,
      "outputs": []
    },
    {
      "cell_type": "code",
      "source": [
        "evaluate(baselineModel, X_train, X_test, y_train, y_test)"
      ],
      "metadata": {
        "colab": {
          "base_uri": "https://localhost:8080/"
        },
        "id": "7tG8lr3iP_mi",
        "outputId": "4ec4e54a-2550-4f29-fb20-c43379c512e7"
      },
      "execution_count": null,
      "outputs": [
        {
          "output_type": "stream",
          "name": "stdout",
          "text": [
            "50/50 [==============================] - 0s 936us/step\n",
            "Mean absolute error for train data 6146.80757\n",
            "13/13 [==============================] - 0s 1ms/step\n",
            "Mean absolute error for test data 5878.96977\n"
          ]
        }
      ]
    },
    {
      "cell_type": "code",
      "source": [
        "X_test.head()"
      ],
      "metadata": {
        "colab": {
          "base_uri": "https://localhost:8080/",
          "height": 206
        },
        "id": "lzuIdqkPb-32",
        "outputId": "e60bed9a-e58a-47d4-81b3-5777029b815a"
      },
      "execution_count": null,
      "outputs": [
        {
          "output_type": "execute_result",
          "data": {
            "text/plain": [
              "      delta pressure  Leak rate (STB/d)\n",
              "1738        178.6203               1400\n",
              "1015        185.2102                840\n",
              "589         186.3532                560\n",
              "957         183.6321                840\n",
              "828         180.1247                840"
            ],
            "text/html": [
              "\n",
              "  <div id=\"df-9e2774f2-f43b-4265-813e-20ea5ab20556\">\n",
              "    <div class=\"colab-df-container\">\n",
              "      <div>\n",
              "<style scoped>\n",
              "    .dataframe tbody tr th:only-of-type {\n",
              "        vertical-align: middle;\n",
              "    }\n",
              "\n",
              "    .dataframe tbody tr th {\n",
              "        vertical-align: top;\n",
              "    }\n",
              "\n",
              "    .dataframe thead th {\n",
              "        text-align: right;\n",
              "    }\n",
              "</style>\n",
              "<table border=\"1\" class=\"dataframe\">\n",
              "  <thead>\n",
              "    <tr style=\"text-align: right;\">\n",
              "      <th></th>\n",
              "      <th>delta pressure</th>\n",
              "      <th>Leak rate (STB/d)</th>\n",
              "    </tr>\n",
              "  </thead>\n",
              "  <tbody>\n",
              "    <tr>\n",
              "      <th>1738</th>\n",
              "      <td>178.6203</td>\n",
              "      <td>1400</td>\n",
              "    </tr>\n",
              "    <tr>\n",
              "      <th>1015</th>\n",
              "      <td>185.2102</td>\n",
              "      <td>840</td>\n",
              "    </tr>\n",
              "    <tr>\n",
              "      <th>589</th>\n",
              "      <td>186.3532</td>\n",
              "      <td>560</td>\n",
              "    </tr>\n",
              "    <tr>\n",
              "      <th>957</th>\n",
              "      <td>183.6321</td>\n",
              "      <td>840</td>\n",
              "    </tr>\n",
              "    <tr>\n",
              "      <th>828</th>\n",
              "      <td>180.1247</td>\n",
              "      <td>840</td>\n",
              "    </tr>\n",
              "  </tbody>\n",
              "</table>\n",
              "</div>\n",
              "      <button class=\"colab-df-convert\" onclick=\"convertToInteractive('df-9e2774f2-f43b-4265-813e-20ea5ab20556')\"\n",
              "              title=\"Convert this dataframe to an interactive table.\"\n",
              "              style=\"display:none;\">\n",
              "        \n",
              "  <svg xmlns=\"http://www.w3.org/2000/svg\" height=\"24px\"viewBox=\"0 0 24 24\"\n",
              "       width=\"24px\">\n",
              "    <path d=\"M0 0h24v24H0V0z\" fill=\"none\"/>\n",
              "    <path d=\"M18.56 5.44l.94 2.06.94-2.06 2.06-.94-2.06-.94-.94-2.06-.94 2.06-2.06.94zm-11 1L8.5 8.5l.94-2.06 2.06-.94-2.06-.94L8.5 2.5l-.94 2.06-2.06.94zm10 10l.94 2.06.94-2.06 2.06-.94-2.06-.94-.94-2.06-.94 2.06-2.06.94z\"/><path d=\"M17.41 7.96l-1.37-1.37c-.4-.4-.92-.59-1.43-.59-.52 0-1.04.2-1.43.59L10.3 9.45l-7.72 7.72c-.78.78-.78 2.05 0 2.83L4 21.41c.39.39.9.59 1.41.59.51 0 1.02-.2 1.41-.59l7.78-7.78 2.81-2.81c.8-.78.8-2.07 0-2.86zM5.41 20L4 18.59l7.72-7.72 1.47 1.35L5.41 20z\"/>\n",
              "  </svg>\n",
              "      </button>\n",
              "      \n",
              "  <style>\n",
              "    .colab-df-container {\n",
              "      display:flex;\n",
              "      flex-wrap:wrap;\n",
              "      gap: 12px;\n",
              "    }\n",
              "\n",
              "    .colab-df-convert {\n",
              "      background-color: #E8F0FE;\n",
              "      border: none;\n",
              "      border-radius: 50%;\n",
              "      cursor: pointer;\n",
              "      display: none;\n",
              "      fill: #1967D2;\n",
              "      height: 32px;\n",
              "      padding: 0 0 0 0;\n",
              "      width: 32px;\n",
              "    }\n",
              "\n",
              "    .colab-df-convert:hover {\n",
              "      background-color: #E2EBFA;\n",
              "      box-shadow: 0px 1px 2px rgba(60, 64, 67, 0.3), 0px 1px 3px 1px rgba(60, 64, 67, 0.15);\n",
              "      fill: #174EA6;\n",
              "    }\n",
              "\n",
              "    [theme=dark] .colab-df-convert {\n",
              "      background-color: #3B4455;\n",
              "      fill: #D2E3FC;\n",
              "    }\n",
              "\n",
              "    [theme=dark] .colab-df-convert:hover {\n",
              "      background-color: #434B5C;\n",
              "      box-shadow: 0px 1px 3px 1px rgba(0, 0, 0, 0.15);\n",
              "      filter: drop-shadow(0px 1px 2px rgba(0, 0, 0, 0.3));\n",
              "      fill: #FFFFFF;\n",
              "    }\n",
              "  </style>\n",
              "\n",
              "      <script>\n",
              "        const buttonEl =\n",
              "          document.querySelector('#df-9e2774f2-f43b-4265-813e-20ea5ab20556 button.colab-df-convert');\n",
              "        buttonEl.style.display =\n",
              "          google.colab.kernel.accessAllowed ? 'block' : 'none';\n",
              "\n",
              "        async function convertToInteractive(key) {\n",
              "          const element = document.querySelector('#df-9e2774f2-f43b-4265-813e-20ea5ab20556');\n",
              "          const dataTable =\n",
              "            await google.colab.kernel.invokeFunction('convertToInteractive',\n",
              "                                                     [key], {});\n",
              "          if (!dataTable) return;\n",
              "\n",
              "          const docLinkHtml = 'Like what you see? Visit the ' +\n",
              "            '<a target=\"_blank\" href=https://colab.research.google.com/notebooks/data_table.ipynb>data table notebook</a>'\n",
              "            + ' to learn more about interactive tables.';\n",
              "          element.innerHTML = '';\n",
              "          dataTable['output_type'] = 'display_data';\n",
              "          await google.colab.output.renderOutput(dataTable, element);\n",
              "          const docLink = document.createElement('div');\n",
              "          docLink.innerHTML = docLinkHtml;\n",
              "          element.appendChild(docLink);\n",
              "        }\n",
              "      </script>\n",
              "    </div>\n",
              "  </div>\n",
              "  "
            ]
          },
          "metadata": {},
          "execution_count": 119
        }
      ]
    },
    {
      "cell_type": "code",
      "source": [
        "baselineModel.predict(X_test)"
      ],
      "metadata": {
        "id": "R8s1hbLeb6A5"
      },
      "execution_count": null,
      "outputs": []
    },
    {
      "cell_type": "markdown",
      "source": [
        "#**HYPERPARAMETER TUNING**"
      ],
      "metadata": {
        "id": "5eW_NT2AXJyZ"
      }
    },
    {
      "cell_type": "markdown",
      "source": [
        "##**2 Layers**"
      ],
      "metadata": {
        "id": "03kTXX3ZdRs4"
      }
    },
    {
      "cell_type": "code",
      "source": [
        "def build_model_2(hp):\n",
        "    optimized_model = keras.Sequential()\n",
        "    optimized_model.add(layers.InputLayer(input_shape=(2,)))\n",
        "    optimized_model.add(normalize)\n",
        "    for i in range (0,2):\n",
        "        optimized_model.add(layers.Dense(units=hp.Int('units_'+str(i), min_value=32, max_value=512,step=32), \n",
        "                                         activation='relu'))\n",
        "    optimized_model.add(layers.Dense(1, name='output_layer'))\n",
        "    optimized_model.compile(optimizer=keras.optimizers.Adam(hp.Choice('learning_rate',[1e-2,1e-3])),\n",
        "                            loss='mean_absolute_error',\n",
        "                            metrics=['mean_absolute_error'])\n",
        "    return optimized_model"
      ],
      "metadata": {
        "id": "6vspFRqDXRU1"
      },
      "execution_count": null,
      "outputs": []
    },
    {
      "cell_type": "code",
      "source": [
        "def layer2(X_train, y_train):\n",
        "    tuner2 = RandomSearch(build_model_2,\n",
        "                          objective='val_mean_absolute_error',\n",
        "                          max_trials=10,\n",
        "                          executions_per_trial=1,\n",
        "                          directory=\"TUning Project 2 Layers\",\n",
        "                          project_name='OPPINET Leak Detector',\n",
        "                          overwrite=True)\n",
        "    tuner2.search(X_train,\n",
        "                  y_train,\n",
        "                  epochs=200,\n",
        "                  steps_per_epoch=25,\n",
        "                  #validation_data = (X_test_scaled, y_test),\n",
        "                  validation_split=0.2,\n",
        "                  verbose=1)\n",
        "    return tuner2"
      ],
      "metadata": {
        "id": "o4ZAPeCbZeYp"
      },
      "execution_count": null,
      "outputs": []
    },
    {
      "cell_type": "code",
      "source": [
        "%%time\n",
        "tuner2 = layer2(X_train, y_train)"
      ],
      "metadata": {
        "colab": {
          "base_uri": "https://localhost:8080/"
        },
        "id": "KZuyCrOXa0PF",
        "outputId": "f3f38b6f-e465-4d42-f7e5-d6ee66a2490d"
      },
      "execution_count": null,
      "outputs": [
        {
          "output_type": "stream",
          "name": "stdout",
          "text": [
            "Trial 10 Complete [00h 00m 25s]\n",
            "val_mean_absolute_error: 1218.6195068359375\n",
            "\n",
            "Best val_mean_absolute_error So Far: 482.56646728515625\n",
            "Total elapsed time: 00h 06m 45s\n",
            "CPU times: user 4min 47s, sys: 24.8 s, total: 5min 12s\n",
            "Wall time: 6min 45s\n"
          ]
        }
      ]
    },
    {
      "cell_type": "code",
      "source": [
        "def printBestHps(layers,tuner):\n",
        "    best_hps = tuner.get_best_hyperparameters(1)[0]\n",
        "    for i in range(layers):\n",
        "        print(f'units_{i}:', best_hps.get(f\"units_{i}\"))\n",
        "    print('learning_rate:', best_hps.get('learning_rate'))"
      ],
      "metadata": {
        "id": "_O5WX4kEbWV1"
      },
      "execution_count": null,
      "outputs": []
    },
    {
      "cell_type": "code",
      "source": [
        "printBestHps(2,tuner2)"
      ],
      "metadata": {
        "colab": {
          "base_uri": "https://localhost:8080/"
        },
        "id": "INSKL7DAdIn9",
        "outputId": "d48e30b8-750f-4078-fed3-575b1f64a65d"
      },
      "execution_count": null,
      "outputs": [
        {
          "output_type": "stream",
          "name": "stdout",
          "text": [
            "units_0: 352\n",
            "units_1: 224\n",
            "learning_rate: 0.01\n"
          ]
        }
      ]
    },
    {
      "cell_type": "markdown",
      "source": [
        "#**Best Model**"
      ],
      "metadata": {
        "id": "9hOp4DuIgkmO"
      }
    },
    {
      "cell_type": "code",
      "source": [
        "def bestModel(tuner):\n",
        "    model = tuner.get_best_models()[0]\n",
        "    return model"
      ],
      "metadata": {
        "id": "y6DgiWRRgsZA"
      },
      "execution_count": null,
      "outputs": []
    },
    {
      "cell_type": "code",
      "source": [
        "best_2layers = bestModel(tuner2)"
      ],
      "metadata": {
        "id": "V1TW3cyEg1B6",
        "colab": {
          "base_uri": "https://localhost:8080/",
          "height": 171
        },
        "outputId": "e0e9d867-5e60-4ab3-de76-19a32bbd76d0"
      },
      "execution_count": null,
      "outputs": [
        {
          "output_type": "error",
          "ename": "NameError",
          "evalue": "ignored",
          "traceback": [
            "\u001b[0;31m---------------------------------------------------------------------------\u001b[0m",
            "\u001b[0;31mNameError\u001b[0m                                 Traceback (most recent call last)",
            "\u001b[0;32m<ipython-input-4-016a57593f2d>\u001b[0m in \u001b[0;36m<module>\u001b[0;34m\u001b[0m\n\u001b[0;32m----> 1\u001b[0;31m \u001b[0mbest_2layers\u001b[0m \u001b[0;34m=\u001b[0m \u001b[0mbestModel\u001b[0m\u001b[0;34m(\u001b[0m\u001b[0mtuner2\u001b[0m\u001b[0;34m)\u001b[0m\u001b[0;34m\u001b[0m\u001b[0;34m\u001b[0m\u001b[0m\n\u001b[0m",
            "\u001b[0;31mNameError\u001b[0m: name 'tuner2' is not defined"
          ]
        }
      ]
    },
    {
      "cell_type": "code",
      "source": [
        "plot_model(best_2layers, show_shapes=True, dpi=100, show_layer_names=True)"
      ],
      "metadata": {
        "colab": {
          "base_uri": "https://localhost:8080/",
          "height": 555
        },
        "id": "BeeA8pgYg_xO",
        "outputId": "1f52c084-23aa-4bb6-c788-ed07d56a128c"
      },
      "execution_count": null,
      "outputs": [
        {
          "output_type": "execute_result",
          "data": {
            "image/png": "[encoded data removed]",
            "text/plain": [
              "<IPython.core.display.Image object>"
            ]
          },
          "metadata": {},
          "execution_count": 131
        }
      ]
    },
    {
      "cell_type": "code",
      "source": [
        "evaluate(best_2layers,X_train,X_test, y_train, y_test)"
      ],
      "metadata": {
        "colab": {
          "base_uri": "https://localhost:8080/"
        },
        "id": "TR_G7IKefMbd",
        "outputId": "655f74e9-c631-4672-84b5-b16d603ee984"
      },
      "execution_count": null,
      "outputs": [
        {
          "output_type": "stream",
          "name": "stdout",
          "text": [
            "50/50 [==============================] - 0s 1ms/step\n",
            "Mean absolute error for train data 496.57321\n",
            "13/13 [==============================] - 0s 2ms/step\n",
            "Mean absolute error for test data 471.09497\n"
          ]
        }
      ]
    },
    {
      "cell_type": "code",
      "source": [
        "def saveModel(model,layer):\n",
        "    model.save('model_' + str(layer) + layer.h5)"
      ],
      "metadata": {
        "id": "qrhxUkPcfV89"
      },
      "execution_count": null,
      "outputs": []
    },
    {
      "cell_type": "code",
      "source": [
        "plot"
      ],
      "metadata": {
        "id": "FU9fv3RFhSuQ"
      },
      "execution_count": null,
      "outputs": []
    },
    {
      "cell_type": "code",
      "source": [
        "saveModel(best_2layers,2)"
      ],
      "metadata": {
        "colab": {
          "base_uri": "https://localhost:8080/",
          "height": 171
        },
        "id": "tOWf9f45f2O7",
        "outputId": "2ec41cf3-248a-4eaa-8239-8e6a056fc177"
      },
      "execution_count": null,
      "outputs": [
        {
          "output_type": "error",
          "ename": "NameError",
          "evalue": "ignored",
          "traceback": [
            "\u001b[0;31m---------------------------------------------------------------------------\u001b[0m",
            "\u001b[0;31mNameError\u001b[0m                                 Traceback (most recent call last)",
            "\u001b[0;32m<ipython-input-2-7044e8ed0707>\u001b[0m in \u001b[0;36m<module>\u001b[0;34m\u001b[0m\n\u001b[0;32m----> 1\u001b[0;31m \u001b[0msaveModel\u001b[0m\u001b[0;34m(\u001b[0m\u001b[0mbest_2layers\u001b[0m\u001b[0;34m,\u001b[0m\u001b[0;36m2\u001b[0m\u001b[0;34m)\u001b[0m\u001b[0;34m\u001b[0m\u001b[0;34m\u001b[0m\u001b[0m\n\u001b[0m",
            "\u001b[0;31mNameError\u001b[0m: name 'best_2layers' is not defined"
          ]
        }
      ]
    },
    {
      "cell_type": "markdown",
      "source": [
        "##**3 Layers**"
      ],
      "metadata": {
        "id": "IRZDUiAKdZdn"
      }
    },
    {
      "cell_type": "code",
      "source": [
        "def build_model_3(hp):\n",
        "    optimized_model = keras.Sequential()\n",
        "    optimized_model.add(layers.InputLayer(input_shape=(2,)))\n",
        "    optimized_model.add(normalize)\n",
        "    for i in range (0,3):\n",
        "        optimized_model.add(layers.Dense(units=hp.Int('units_'+str(i), min_value=32, max_value=512,step=32), \n",
        "                                         activation='relu'))\n",
        "    optimized_model.add(layers.Dense(1, name='output_layer'))\n",
        "    optimized_model.compile(optimizer=keras.optimizers.Adam(hp.Choice('learning_rate',[1e-2,1e-3])),\n",
        "                            loss='mean_absolute_error',\n",
        "                            metrics=['mean_absolute_error'])\n",
        "    return optimized_model"
      ],
      "metadata": {
        "id": "ZqchjV-KdoYd"
      },
      "execution_count": null,
      "outputs": []
    },
    {
      "cell_type": "code",
      "source": [
        "def layer3(X_train, y_train):\n",
        "    tuner3 = RandomSearch(build_model_3,\n",
        "                          objective='val_mean_absolute_error',\n",
        "                          max_trials=10,\n",
        "                          executions_per_trial=1,\n",
        "                          directory=\"TUning Project 3 Layers\",\n",
        "                          project_name='OPPINET Leak Detector',\n",
        "                          overwrite=True)\n",
        "    tuner3.search(X_train,\n",
        "                  y_train,\n",
        "                  epochs=200,\n",
        "                  steps_per_epoch=25,\n",
        "                  #validation_data = (X_test_scaled, y_test),\n",
        "                  validation_split=0.2,\n",
        "                  verbose=1)\n",
        "    return tuner3"
      ],
      "metadata": {
        "id": "WpqfSCfwdtxp"
      },
      "execution_count": null,
      "outputs": []
    },
    {
      "cell_type": "code",
      "source": [
        "%%time\n",
        "tuner3 = layer3(X_train, y_train)"
      ],
      "metadata": {
        "colab": {
          "base_uri": "https://localhost:8080/"
        },
        "id": "0NLouJx1d3zE",
        "outputId": "6614a97d-12d5-4ce8-b97a-9b623ab9afe2"
      },
      "execution_count": null,
      "outputs": [
        {
          "output_type": "stream",
          "name": "stdout",
          "text": [
            "Trial 10 Complete [00h 00m 42s]\n",
            "val_mean_absolute_error: 125.52555084228516\n",
            "\n",
            "Best val_mean_absolute_error So Far: 84.88787841796875\n",
            "Total elapsed time: 00h 07m 24s\n",
            "CPU times: user 5min 48s, sys: 30.1 s, total: 6min 18s\n",
            "Wall time: 7min 23s\n"
          ]
        }
      ]
    },
    {
      "cell_type": "code",
      "source": [
        "printBestHps(3,tuner3)"
      ],
      "metadata": {
        "colab": {
          "base_uri": "https://localhost:8080/",
          "height": 299
        },
        "id": "pONfkfMhd_Ti",
        "outputId": "947ad88c-189f-4e74-82da-da87f88d1eaf"
      },
      "execution_count": null,
      "outputs": [
        {
          "output_type": "error",
          "ename": "IndexError",
          "evalue": "ignored",
          "traceback": [
            "\u001b[0;31m---------------------------------------------------------------------------\u001b[0m",
            "\u001b[0;31mIndexError\u001b[0m                                Traceback (most recent call last)",
            "\u001b[0;32m<ipython-input-126-797e55bceb7d>\u001b[0m in \u001b[0;36m<module>\u001b[0;34m\u001b[0m\n\u001b[0;32m----> 1\u001b[0;31m \u001b[0mprintBestHps\u001b[0m\u001b[0;34m(\u001b[0m\u001b[0;36m3\u001b[0m\u001b[0;34m,\u001b[0m\u001b[0mtuner3\u001b[0m\u001b[0;34m)\u001b[0m\u001b[0;34m\u001b[0m\u001b[0;34m\u001b[0m\u001b[0m\n\u001b[0m",
            "\u001b[0;32m<ipython-input-120-b7f724fd04e1>\u001b[0m in \u001b[0;36mprintBestHps\u001b[0;34m(layers, tuner)\u001b[0m\n\u001b[1;32m      1\u001b[0m \u001b[0;32mdef\u001b[0m \u001b[0mprintBestHps\u001b[0m\u001b[0;34m(\u001b[0m\u001b[0mlayers\u001b[0m\u001b[0;34m,\u001b[0m\u001b[0mtuner\u001b[0m\u001b[0;34m)\u001b[0m\u001b[0;34m:\u001b[0m\u001b[0;34m\u001b[0m\u001b[0;34m\u001b[0m\u001b[0m\n\u001b[0;32m----> 2\u001b[0;31m     \u001b[0mbest_hps\u001b[0m \u001b[0;34m=\u001b[0m \u001b[0mtuner\u001b[0m\u001b[0;34m.\u001b[0m\u001b[0mget_best_hyperparameters\u001b[0m\u001b[0;34m(\u001b[0m\u001b[0;36m1\u001b[0m\u001b[0;34m)\u001b[0m\u001b[0;34m[\u001b[0m\u001b[0;36m0\u001b[0m\u001b[0;34m]\u001b[0m\u001b[0;34m\u001b[0m\u001b[0;34m\u001b[0m\u001b[0m\n\u001b[0m\u001b[1;32m      3\u001b[0m     \u001b[0;32mfor\u001b[0m \u001b[0mi\u001b[0m \u001b[0;32min\u001b[0m \u001b[0mrange\u001b[0m\u001b[0;34m(\u001b[0m\u001b[0mlayers\u001b[0m\u001b[0;34m)\u001b[0m\u001b[0;34m:\u001b[0m\u001b[0;34m\u001b[0m\u001b[0;34m\u001b[0m\u001b[0m\n\u001b[1;32m      4\u001b[0m         \u001b[0mprint\u001b[0m\u001b[0;34m(\u001b[0m\u001b[0;34mf'units_{i}:'\u001b[0m\u001b[0;34m,\u001b[0m \u001b[0mbest_hps\u001b[0m\u001b[0;34m.\u001b[0m\u001b[0mget\u001b[0m\u001b[0;34m(\u001b[0m\u001b[0;34mf\"units_{i}\"\u001b[0m\u001b[0;34m)\u001b[0m\u001b[0;34m)\u001b[0m\u001b[0;34m\u001b[0m\u001b[0;34m\u001b[0m\u001b[0m\n\u001b[1;32m      5\u001b[0m     \u001b[0mprint\u001b[0m\u001b[0;34m(\u001b[0m\u001b[0;34m'learning_rate:'\u001b[0m\u001b[0;34m,\u001b[0m \u001b[0mbest_hps\u001b[0m\u001b[0;34m.\u001b[0m\u001b[0mget\u001b[0m\u001b[0;34m(\u001b[0m\u001b[0;34m'learning_rate'\u001b[0m\u001b[0;34m)\u001b[0m\u001b[0;34m)\u001b[0m\u001b[0;34m\u001b[0m\u001b[0;34m\u001b[0m\u001b[0m\n",
            "\u001b[0;31mIndexError\u001b[0m: list index out of range"
          ]
        }
      ]
    },
    {
      "cell_type": "markdown",
      "source": [
        "#**4 Layers**"
      ],
      "metadata": {
        "id": "w9hEnVBXej1W"
      }
    },
    {
      "cell_type": "code",
      "source": [
        "def build_model_4(hp):\n",
        "    optimized_model = keras.Sequential()\n",
        "    optimized_model.add(layers.InputLayer(input_shape=(2,)))\n",
        "    optimized_model.add(normalize)\n",
        "    for i in range (0,4):\n",
        "        optimized_model.add(layers.Dense(units=hp.Int('units_'+str(i), min_value=32, max_value=512,step=32), \n",
        "                                         activation='relu'))\n",
        "    optimized_model.add(layers.Dense(1, name='output_layer'))\n",
        "    optimized_model.compile(optimizer=keras.optimizers.Adam(hp.Choice('learning_rate',[1e-2,1e-3])),\n",
        "                            loss='mean_absolute_error',\n",
        "                            metrics=['mean_absolute_error'])\n",
        "    return optimized_model"
      ],
      "metadata": {
        "id": "JeNwpcTTeob7"
      },
      "execution_count": null,
      "outputs": []
    },
    {
      "cell_type": "code",
      "source": [
        "def layer4(X_train, y_train):\n",
        "    tuner4 = RandomSearch(build_model_4,\n",
        "                          objective='val_mean_absolute_error',\n",
        "                          max_trials=10,\n",
        "                          executions_per_trial=1,\n",
        "                          directory=\"TUning Project 3 Layers\",\n",
        "                          project_name='OPPINET Leak Detector',\n",
        "                          overwrite=True)\n",
        "    tuner4.search(X_train,\n",
        "                  y_train,\n",
        "                  epochs=200,\n",
        "                  steps_per_epoch=25,\n",
        "                  #validation_data = (X_test_scaled, y_test),\n",
        "                  validation_split=0.2,\n",
        "                  verbose=1)\n",
        "    return tuner4"
      ],
      "metadata": {
        "id": "jnc7RLF2etNk"
      },
      "execution_count": null,
      "outputs": []
    },
    {
      "cell_type": "code",
      "source": [
        "%%time\n",
        "tuner3 = layer3(X_train, y_train)"
      ],
      "metadata": {
        "id": "-P82gxSsewAJ"
      },
      "execution_count": null,
      "outputs": []
    }
  ]
}