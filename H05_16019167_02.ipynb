{
 "cells": [
  {
   "cell_type": "code",
   "execution_count": 1,
   "metadata": {},
   "outputs": [],
   "source": [
    "#NIM/NAMA      : 16019167/CAROLINA SINAGA\n",
    "#TANGGAL       : SELASA,12 NOVEMBER 2019\n",
    "#DESKRIPSI     : Analisa data(Problem 2)\n",
    "\n",
    "import pandas as pd\n",
    "df3 = pd.read_csv(\"D:/fmipa-fghij.csv\")"
   ]
  },
  {
   "cell_type": "code",
   "execution_count": 2,
   "metadata": {
    "scrolled": true
   },
   "outputs": [
    {
     "name": "stdout",
     "output_type": "stream",
     "text": [
      "Nilai matematika,fisika,dan kimia milik Tuan Yon:\n"
     ]
    },
    {
     "data": {
      "text/html": [
       "<div>\n",
       "<style scoped>\n",
       "    .dataframe tbody tr th:only-of-type {\n",
       "        vertical-align: middle;\n",
       "    }\n",
       "\n",
       "    .dataframe tbody tr th {\n",
       "        vertical-align: top;\n",
       "    }\n",
       "\n",
       "    .dataframe thead th {\n",
       "        text-align: right;\n",
       "    }\n",
       "</style>\n",
       "<table border=\"1\" class=\"dataframe\">\n",
       "  <thead>\n",
       "    <tr style=\"text-align: right;\">\n",
       "      <th></th>\n",
       "      <th>nama</th>\n",
       "      <th>fakultas</th>\n",
       "      <th>nilai_mat</th>\n",
       "      <th>nilai_kim</th>\n",
       "      <th>nilai_fis</th>\n",
       "    </tr>\n",
       "  </thead>\n",
       "  <tbody>\n",
       "    <tr>\n",
       "      <td>5398</td>\n",
       "      <td>Tuan Yon</td>\n",
       "      <td>FTMD</td>\n",
       "      <td>99.18</td>\n",
       "      <td>63.44</td>\n",
       "      <td>40.23</td>\n",
       "    </tr>\n",
       "  </tbody>\n",
       "</table>\n",
       "</div>"
      ],
      "text/plain": [
       "          nama fakultas  nilai_mat  nilai_kim  nilai_fis\n",
       "5398  Tuan Yon     FTMD      99.18      63.44      40.23"
      ]
     },
     "execution_count": 2,
     "metadata": {},
     "output_type": "execute_result"
    }
   ],
   "source": [
    "#Mencetak nilai milik Tuan Yon\n",
    "print(\"Nilai matematika,fisika,dan kimia milik Tuan Yon:\")\n",
    "df3.loc[df3[\"nama\"]==\"Tuan Yon\"]"
   ]
  },
  {
   "cell_type": "code",
   "execution_count": 3,
   "metadata": {},
   "outputs": [
    {
     "data": {
      "text/html": [
       "<div>\n",
       "<style scoped>\n",
       "    .dataframe tbody tr th:only-of-type {\n",
       "        vertical-align: middle;\n",
       "    }\n",
       "\n",
       "    .dataframe tbody tr th {\n",
       "        vertical-align: top;\n",
       "    }\n",
       "\n",
       "    .dataframe thead th {\n",
       "        text-align: right;\n",
       "    }\n",
       "</style>\n",
       "<table border=\"1\" class=\"dataframe\">\n",
       "  <thead>\n",
       "    <tr style=\"text-align: right;\">\n",
       "      <th></th>\n",
       "      <th>nama</th>\n",
       "      <th>fakultas</th>\n",
       "      <th>nilai_mat</th>\n",
       "      <th>nilai_kim</th>\n",
       "      <th>nilai_fis</th>\n",
       "    </tr>\n",
       "  </thead>\n",
       "  <tbody>\n",
       "    <tr>\n",
       "      <td>5518</td>\n",
       "      <td>Rizal Irnandi Hidayat</td>\n",
       "      <td>SAPPK</td>\n",
       "      <td>55.94</td>\n",
       "      <td>86.98</td>\n",
       "      <td>90.64</td>\n",
       "    </tr>\n",
       "  </tbody>\n",
       "</table>\n",
       "</div>"
      ],
      "text/plain": [
       "                       nama fakultas  nilai_mat  nilai_kim  nilai_fis\n",
       "5518  Rizal Irnandi Hidayat    SAPPK      55.94      86.98      90.64"
      ]
     },
     "execution_count": 3,
     "metadata": {},
     "output_type": "execute_result"
    }
   ],
   "source": [
    "nilai_fis_maks=df3[\"nilai_fis\"].max()\n",
    "df3.loc[df3[\"nilai_fis\"]==nilai_fis_maks]"
   ]
  },
  {
   "cell_type": "code",
   "execution_count": 13,
   "metadata": {},
   "outputs": [
    {
     "name": "stdout",
     "output_type": "stream",
     "text": [
      "Nilai fisika mahasiswa tertinggi\n",
      "                       nama fakultas  nilai_mat  nilai_kim  nilai_fis\n",
      "5518  Rizal Irnandi Hidayat    SAPPK      55.94      86.98      90.64\n"
     ]
    }
   ],
   "source": [
    "#Mencetak nilai fisika mahasiswa tertinggi\n",
    "imax = df3[\"nilai_fis\"].idxmax()\n",
    "print(\"Nilai fisika mahasiswa tertinggi\")\n",
    "print(df3[imax:imax + 1])"
   ]
  },
  {
   "cell_type": "code",
   "execution_count": 15,
   "metadata": {},
   "outputs": [
    {
     "name": "stdout",
     "output_type": "stream",
     "text": [
      "10 mahasiswa yang mendapat nilai kimia tertinggi\n",
      "                             nama fakultas  nilai_mat  nilai_kim  nilai_fis\n",
      "4951                Putri Humaira    FMIPA      77.76      88.70      76.87\n",
      "5518        Rizal Irnandi Hidayat    SAPPK      55.94      86.98      90.64\n",
      "1757    William Kencana Tanjungan     STEI      51.84      84.64      82.90\n",
      "747      Razqi Muhammad Kurniawan     STEI      85.05      82.76      86.53\n",
      "7334                 Bela Haifa K      FTI      65.85      80.28      87.66\n",
      "4043            Amila Laelalugina     STEI      72.11      79.35      71.61\n",
      "2568      Muhammad Faqih Mulyawan     STEI      76.97      79.09      87.12\n",
      "1794  Nuning Anugrah Putri Namari    FMIPA      49.08      78.18      71.99\n",
      "4305               Poppy Dharsana      FTI     100.00      77.59      75.37\n",
      "5826           Muhammad Rahimsyah      FTI      86.27      77.13      81.84\n"
     ]
    }
   ],
   "source": [
    "#Mencetak 10 mahasiswa yang mendapat nilai kimia tertinggi\n",
    "print(\"10 mahasiswa yang mendapat nilai kimia tertinggi\")\n",
    "df4 = df3.sort_values([\"nilai_kim\"],ascending =[0])\n",
    "print(df4[:10])"
   ]
  },
  {
   "cell_type": "code",
   "execution_count": 16,
   "metadata": {},
   "outputs": [
    {
     "name": "stdout",
     "output_type": "stream",
     "text": [
      "Banyaknya mahasiswa yang mendapat nilai matematika di bawah 50 :  514\n"
     ]
    }
   ],
   "source": [
    "#Mencetak banyaknya mahasiswa yang mendapat nilai matematika di bawah 50\n",
    "Nilai_mat_dibawah_50 = df3.loc[df3[\"nilai_mat\"]<=50]\n",
    "print(\"Banyaknya mahasiswa yang mendapat nilai matematika di bawah 50 : \",len(Nilai_mat_dibawah_50))\n",
    "\n",
    "\n"
   ]
  },
  {
   "cell_type": "code",
   "execution_count": 17,
   "metadata": {},
   "outputs": [
    {
     "name": "stdout",
     "output_type": "stream",
     "text": [
      "Banyaknya mahasiswa FMIPA :  913\n"
     ]
    }
   ],
   "source": [
    "#Menentukan banyaknya  mahasiswa FMIPA\n",
    "Jumlah_mahasiswa_FMIPA = df3.loc[df3[\"fakultas\"]==\"FMIPA\"]\n",
    "print(\"Banyaknya mahasiswa FMIPA : \",len(Jumlah_mahasiswa_FMIPA))"
   ]
  }
 ],
 "metadata": {
  "kernelspec": {
   "display_name": "Python 3",
   "language": "python",
   "name": "python3"
  },
  "language_info": {
   "codemirror_mode": {
    "name": "ipython",
    "version": 3
   },
   "file_extension": ".py",
   "mimetype": "text/x-python",
   "name": "python",
   "nbconvert_exporter": "python",
   "pygments_lexer": "ipython3",
   "version": "3.7.4"
  }
 },
 "nbformat": 4,
 "nbformat_minor": 2
}
