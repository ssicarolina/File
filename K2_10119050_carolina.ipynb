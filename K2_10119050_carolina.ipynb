{
  "nbformat": 4,
  "nbformat_minor": 0,
  "metadata": {
    "colab": {
      "name": "K2_10119050_carolina.ipynb",
      "provenance": []
    },
    "kernelspec": {
      "name": "python3",
      "display_name": "Python 3"
    }
  },
  "cells": [
    {
      "cell_type": "code",
      "metadata": {
        "colab": {
          "base_uri": "https://localhost:8080/"
        },
        "id": "ij4qt447rHuc",
        "outputId": "3c476926-33d6-4356-8ba2-2d35da862540"
      },
      "source": [
        "# a = 1\n",
        "# b = 1\n",
        "# c = 0\n",
        "\n",
        "\n",
        "# Matirks A berukuran 10 X 10\n",
        "a = 1\n",
        "b = 1\n",
        "c = 0\n",
        "A = [[a for j in range(10)]for i in range(10)]\n",
        "\n",
        "# Mengubah elemen baris b  dan elemen kolom b menjadi diisi dengan c\n",
        "for i in range(10):\n",
        "  for j in range(10):\n",
        "    if (i==b) or (j==b):\n",
        "      A[i][j] = c \n",
        "\n",
        "for i in range(10):\n",
        "  for j in range(10):\n",
        "    print(A[i][j],end=\" \")\n",
        "  print()\n",
        "\n",
        "# Matirks A_ext berukuran 12 X 12\n",
        "# Kondisi batas periodik\n",
        "M2 = [[0 for j in range(12)]for i in range(12)]\n",
        "\n",
        "# Mengisi matriks A_ext\n",
        "for i in range(12):\n",
        "  for j in range(12):\n",
        "    while (i<=10) or (j<=10):\n",
        "      M2[i][j] = A[i][j]\n",
        "\n",
        "\n"
      ],
      "execution_count": null,
      "outputs": [
        {
          "output_type": "stream",
          "text": [
            "1 0 1 1 1 1 1 1 1 1 \n",
            "0 0 0 0 0 0 0 0 0 0 \n",
            "1 0 1 1 1 1 1 1 1 1 \n",
            "1 0 1 1 1 1 1 1 1 1 \n",
            "1 0 1 1 1 1 1 1 1 1 \n",
            "1 0 1 1 1 1 1 1 1 1 \n",
            "1 0 1 1 1 1 1 1 1 1 \n",
            "1 0 1 1 1 1 1 1 1 1 \n",
            "1 0 1 1 1 1 1 1 1 1 \n",
            "1 0 1 1 1 1 1 1 1 1 \n"
          ],
          "name": "stdout"
        }
      ]
    }
  ]
}