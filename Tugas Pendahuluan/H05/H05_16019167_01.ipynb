{
 "cells": [
  {
   "cell_type": "code",
   "execution_count": 1,
   "metadata": {},
   "outputs": [],
   "source": [
    "#NIM/NAMA      : 16019167/CAROLINA SINAGA\n",
    "#TANGGAL        : SELASA,12 NOVEMBER 2019\n",
    "#DESKRIPSI      : Program yang mampu  mengolah data .csv dan memberikan output yang diinginkan\n",
    "\n",
    "import pandas as pd\n",
    "df3 = pd.read_csv(\"D:/fmipa-fghij.csv\")"
   ]
  },
  {
   "cell_type": "code",
   "execution_count": 4,
   "metadata": {},
   "outputs": [
    {
     "name": "stdout",
     "output_type": "stream",
     "text": [
      "                           nama fakultas  nilai_mat  nilai_kim  nilai_fis\n",
      "0                    Mega Putri     FTTM      84.80      20.06      34.03\n",
      "1     Mohammad Rizki Luthfiah A    FMIPA      56.26      61.21      64.77\n",
      "2                Hadhrat Khalil     FTSL      64.56      46.20      53.98\n",
      "3             Gabriella Jeremia    FMIPA      73.08      43.25      52.36\n",
      "4                 Ahmad Maulana      FTI      72.38      62.01      61.86\n",
      "...                         ...      ...        ...        ...        ...\n",
      "7553            Ria Tri Wahyuni     FTSL      69.14      61.03      72.20\n",
      "7554             Darwin Chandra     FTMD      76.11      40.59      39.38\n",
      "7555             Dani Rahmawati     STEI      89.25      42.75      49.67\n",
      "7556          Nurul Sandy Putri      FTI      87.94      35.72      45.74\n",
      "7557        Fransisco Sihombing     FTSL      66.63      51.80      54.59\n",
      "\n",
      "[7558 rows x 5 columns]\n",
      "Banyaknya data: 7558\n"
     ]
    }
   ],
   "source": [
    "print(df3) #Mencetak data mahasiswa\n",
    "print(\"Banyaknya data:\",len(df3)) #Mencetak jumlah seluruh data"
   ]
  },
  {
   "cell_type": "code",
   "execution_count": 3,
   "metadata": {},
   "outputs": [
    {
     "name": "stdout",
     "output_type": "stream",
     "text": [
      "10 data pertama:\n",
      "                        nama fakultas  nilai_mat  nilai_kim  nilai_fis\n",
      "0                 Mega Putri     FTTM      84.80      20.06      34.03\n",
      "1  Mohammad Rizki Luthfiah A    FMIPA      56.26      61.21      64.77\n",
      "2             Hadhrat Khalil     FTSL      64.56      46.20      53.98\n",
      "3          Gabriella Jeremia    FMIPA      73.08      43.25      52.36\n",
      "4              Ahmad Maulana      FTI      72.38      62.01      61.86\n",
      "5  Orieza Alif Putra Purnomo     FITB      78.41      58.02      63.40\n",
      "6       Wahyu Muharril Hazim    SAPPK      73.83      49.53      39.81\n",
      "7    Adventia Hermina Sagita     FTSL      83.24      61.54      69.38\n",
      "8              Fatma Azzahro     STEI      74.74      58.64      64.20\n",
      "9             Fadilatul Ilmi      FTI      81.42      60.46      50.03\n"
     ]
    }
   ],
   "source": [
    "#Menetak 10 data pertama\n",
    "print(\"10 data pertama:\")\n",
    "print(df3[:10])"
   ]
  },
  {
   "cell_type": "code",
   "execution_count": 6,
   "metadata": {},
   "outputs": [
    {
     "name": "stdout",
     "output_type": "stream",
     "text": [
      "Data ke 50 sampai 60\n",
      "                       nama fakultas  nilai_mat  nilai_kim  nilai_fis\n",
      "50  Ahmad Dzikra Fatahillah    SITHS      70.63      56.41      43.63\n",
      "51         Moh Wahyu Taufiq     FTMD      79.59      51.62      63.59\n",
      "52            Atas Hasibuan    FMIPA      64.83      60.89      60.91\n",
      "53    Arno Germanndaputra S    FMIPA      59.23      58.98      64.62\n",
      "54   Albert Caesar Pasaribu     FTTM      67.35      46.96      61.84\n",
      "55          Mukhammad Rifky    SITHR      52.62      36.84      48.11\n",
      "56     Gifari Nitya Mukhlis    FMIPA      79.09      45.63      50.93\n",
      "57            Siti Nurjanah      FTI      93.36      49.74      50.90\n",
      "58      Andrias Ari Perdana     FTMD      48.32      45.21      48.39\n",
      "59         Nasha Pinasthika     FTTM      73.38      65.43      65.13\n",
      "60         Otto Christianto    FMIPA      55.67      32.44      40.43\n"
     ]
    }
   ],
   "source": [
    "#Mencetak data ke 50 sampai data ke 60\n",
    "print(\"Data ke 50 sampai 60\")\n",
    "print(df3[50:61])"
   ]
  },
  {
   "cell_type": "code",
   "execution_count": 8,
   "metadata": {},
   "outputs": [
    {
     "name": "stdout",
     "output_type": "stream",
     "text": [
      "FTI      1090\n",
      "STEI     1089\n",
      "FTSL      989\n",
      "FMIPA     913\n",
      "FTTM      833\n",
      "FTMD      756\n",
      "FITB      620\n",
      "SAPPK     496\n",
      "SITHR     480\n",
      "SITHS     292\n",
      "Name: fakultas, dtype: int64\n"
     ]
    }
   ],
   "source": [
    "#Mencetak jumlah mahasiswa dari setiap fakultas yang ada\n",
    "print(\"Jumlah mahasiswa setiap fakultas\")\n",
    "print(df3[\"fakultas\"].value_counts())"
   ]
  },
  {
   "cell_type": "code",
   "execution_count": 8,
   "metadata": {},
   "outputs": [
    {
     "name": "stdout",
     "output_type": "stream",
     "text": [
      "Nilai korelasi antara nilai fisika dan kimia 0.7980151219526689\n",
      "Low Positive Correlation\n",
      "\n",
      "Jika Nilai korelasi antara nilai fisika dan kimia semakin mendekati 0, maka nilai fisika dan kimia semakin tidak berkorelasi \n",
      "Jika Nilai korelasi antara nilai fisika dan kimia semakin mendekati 1, maka nilai fisika dan kimia semakin  berkorelasi \n",
      "Jika Nilai korelasi antara nilai fisika dan kimia semakin mendekati -1, maka nilai fisika dan kimia semakin berbanding terbalik \n"
     ]
    }
   ],
   "source": [
    "#Menentukan Nilai korelasi antara nilai fisika dan kimia\n",
    "c=df3[\"nilai_fis\"].corr(df3[\"nilai_kim\"])\n",
    "print(\"Nilai korelasi antara nilai fisika dan kimia\",c)\n",
    "if c==1:\n",
    "    print(\"Perfect Positive Correlation\")\n",
    "elif c<1 and c>=0.8:\n",
    "    print(\"High Positive Correlation\")\n",
    "elif c<0.8 and c>=0.5:\n",
    "    print(\"Low Positive Correlation\")\n",
    "elif c==-1:\n",
    "    print(\"Perfect Negative Correlation\")\n",
    "elif c<1 and c>=0.8:\n",
    "    print(\"High Negative Correlation\")\n",
    "elif c<0.8 and c>=0.5:\n",
    "    print(\"Low Negative Correlation\")\n",
    "print()\n",
    "print(\"Jika Nilai korelasi antara nilai fisika dan kimia semakin mendekati 0, maka nilai fisika dan kimia semakin tidak berkorelasi \")\n",
    "print(\"Jika Nilai korelasi antara nilai fisika dan kimia semakin mendekati 1, maka nilai fisika dan kimia semakin  berkorelasi \")\n",
    "print(\"Jika Nilai korelasi antara nilai fisika dan kimia semakin mendekati -1, maka nilai fisika dan kimia semakin berbanding terbalik \")\n"
   ]
  },
  {
   "cell_type": "code",
   "execution_count": null,
   "metadata": {},
   "outputs": [],
   "source": []
  }
 ],
 "metadata": {
  "kernelspec": {
   "display_name": "Python 3",
   "language": "python",
   "name": "python3"
  },
  "language_info": {
   "codemirror_mode": {
    "name": "ipython",
    "version": 3
   },
   "file_extension": ".py",
   "mimetype": "text/x-python",
   "name": "python",
   "nbconvert_exporter": "python",
   "pygments_lexer": "ipython3",
   "version": "3.7.4"
  }
 },
 "nbformat": 4,
 "nbformat_minor": 2
}
