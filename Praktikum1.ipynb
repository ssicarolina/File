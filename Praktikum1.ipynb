{
 "cells": [
  {
   "cell_type": "markdown",
   "metadata": {
    "id": "27GJn8MiCs0z"
   },
   "source": [
    "# **Praktikum 1 MA2151 Sikomat 2020**"
   ]
  },
  {
   "cell_type": "markdown",
   "metadata": {
    "id": "sO3JNVj8fbH0"
   },
   "source": [
    "## 1\n",
    "\n",
    "Buat program Python untuk menghitung ekspresi berikut, **tanpa memakai tanda kurung**. Tampilkan hasilnya pada layar komputer.\n",
    "\n",
    "$$\\frac{a+bc}{ac + \\frac{c}{a^2+b^3}} \\quad \\text{a, b, c integer}$$\n",
    "\n",
    "Tidak boleh ada variabel tambahan lain selain `a`, `b`, `c`. Ujilah program tersebut dengan nilai `a = 3`, `b = 4`, dan `c = 5` yang dimasukkan dengan perintah input."
   ]
  },
  {
   "cell_type": "markdown",
   "metadata": {},
   "source": [
    "### Jawab\n",
    "\n",
    "Pertama-tama, mari kita lihat hasil dari ekspresi tersebut untuk `a=3`, `b=4`, dan `c=5`."
   ]
  },
  {
   "cell_type": "code",
   "execution_count": 1,
   "metadata": {},
   "outputs": [
    {
     "data": {
      "text/plain": [
       "1.5263636363636364"
      ]
     },
     "execution_count": 1,
     "metadata": {},
     "output_type": "execute_result"
    }
   ],
   "source": [
    "jawaban1 = lambda a,b,c : (a+b*c) / (a*c + c/(a**2 + b**3))\n",
    "\n",
    "jawaban1(3, 4, 5)"
   ]
  },
  {
   "cell_type": "markdown",
   "metadata": {},
   "source": [
    "Untuk menyelesaikan permasalahan ini, banyak kemungkinan subtitusi yang dapat dilakukan -- asal tidak menggunakan tanda kurung. Namun tentu saja, untuk soal ini kita masih 'terpaksa' menggunakan tanda kurung untuk menginput angka dan mengoutputkan jawaban. Bukan masalah besar seharusnya. Berikut ini adalah salah satu subtitusi yang dapat dilakukan"
   ]
  },
  {
   "cell_type": "code",
   "execution_count": 2,
   "metadata": {
    "id": "aFot6PMZiLq5"
   },
   "outputs": [
    {
     "name": "stdout",
     "output_type": "stream",
     "text": [
      "masukkan nilai a: 3\n",
      "masukkan nilai a: 4\n",
      "masukkan nilai a: 5\n",
      "hasil ekspresi adalah 1.5263636363636361\n"
     ]
    }
   ],
   "source": [
    "# PROGRAM soal1_metode1\n",
    "\n",
    "# dengan modifikasi aljabar, ekspresi di soal dapat ditulis sebagai\n",
    "#   ((a**2 + b**3)(a+bc)) / (ac(a**2 + b**3) + c)\n",
    "#   ((a**2 + b**3)(a/c+b)) / (a(a**2 + b**3) + 1)\n",
    "# karena c tidak 'digunakan' selain untuk menghitung a/c+b, variabel\n",
    "# c dapat diganti nilainya dengan a/c+b. selanjutnya, ekspresi dapat\n",
    "# ditulis sebagai\n",
    "#   ((a**2 + b**3)c) / (a(a**2 + b**3) + 1)\n",
    "#   (ca**2 + cb**3) / (a**3 + ab**3 + 1)\n",
    "# sekali lagi, variabel c hanya 'digunakan' untuk menghitung ekspresi\n",
    "# pada pembilang, maka kita dapat mengganti nilainya. selanjutnya,\n",
    "# ekspresi dapat dituliskan sebagai\n",
    "#   c / (a**3 + ab**3 + 1)\n",
    "# kali ini variabel a dan b hanya 'digunakan' untuk menghitung\n",
    "# ekspresi pada penyebut, mengganti nilai salah satunya (wlog, a)\n",
    "# akan menghasilkan **hasil ekspresi** berikut\n",
    "#   c / a\n",
    "\n",
    "\n",
    "# VARIABEL\n",
    "a = int(input('masukkan nilai a: '))\n",
    "b = int(input('masukkan nilai a: '))\n",
    "c = int(input('masukkan nilai a: '))\n",
    "\n",
    "\n",
    "# HITUNGAN PROGRAM\n",
    "c = a/c + b\n",
    "c = c*a**2 + c*b**3\n",
    "a = a**3 + a*b**3 + 1\n",
    "\n",
    "print('hasil ekspresi adalah', c/a)"
   ]
  },
  {
   "cell_type": "markdown",
   "metadata": {},
   "source": [
    "Metode yang kedua cukup cerdik/licik, karena Python dapat melakukan beberapa penggantian nilai variabel secara bersamaan. **Tuple unpacking** memungkinkan programmer menukar variabel `a` dan `b` hanya dengan menulis\n",
    "\n",
    "`a, b = (b, a)`\n",
    "\n",
    "atau secara singkat,\n",
    "\n",
    "`a, b = b, a`\n",
    "\n",
    "*Perlu diperhatikan, seperti namanya, tuple unpacking menggunakan tipe data tuple yang secara teori termasuk dalam tipe data array. Tapi karena penggunaannya yang umum dalam bahasa Python untuk melakukan hal-hal seperti ini, rasanya tidak ada yang memprotes jika kalian menjawab menggunakan metode ini*"
   ]
  },
  {
   "cell_type": "code",
   "execution_count": 3,
   "metadata": {},
   "outputs": [
    {
     "name": "stdout",
     "output_type": "stream",
     "text": [
      "masukkan nilai a: 3\n",
      "masukkan nilai a: 4\n",
      "masukkan nilai a: 5\n",
      "hasil ekspresi adalah 1.5263636363636361\n"
     ]
    }
   ],
   "source": [
    "# PROGRAM soal1_metode2\n",
    "\n",
    "# dengan modifikasi aljabar, ekspresi di soal dapat ditulis sebagai\n",
    "#   ((a**2 + b**3)(a+bc)) / (ac(a**2 + b**3) + c)\n",
    "#   ((a**2 + b**3)(a/c+b)) / (a(a**2 + b**3) + 1)\n",
    "#   ((a**2 + b**3)(a/c+b)) / (a**3 + ab**3 + 1)\n",
    "# dengan menggunakan kemampuan Python, tuple unpacking, kita dapat\n",
    "# melakukan tiga subtitusi berikut sekaligu\n",
    "#   a <= a**2 + b**3\n",
    "#   b <= a/c + b\n",
    "#   c <= a**3 + ab**3 + 1\n",
    "# sehingga **hasil ekspresi** dapat ditulis sebagai\n",
    "#   a*b/c\n",
    "\n",
    "\n",
    "# VARIABEL\n",
    "a = int(input('masukkan nilai a: '))\n",
    "b = int(input('masukkan nilai a: '))\n",
    "c = int(input('masukkan nilai a: '))\n",
    "\n",
    "\n",
    "# HITUNGAN PROGRAM\n",
    "a, b, c = a**2 + b**3, a/c + b, a**3 + a*b**3 + 1\n",
    "print('hasil ekspresi adalah', a*b/c)"
   ]
  },
  {
   "cell_type": "markdown",
   "metadata": {
    "id": "_uJXGz18f-2T"
   },
   "source": [
    "# 2\n",
    "\n",
    "Seekor kura-kura berlari dari garis start dengan kecepatan $V_1$ cm/detik. $k$ detik kemudian seekor kancil mulai berlari dari garis start dengan kecepatan $V_2$ cm/detik. Buat program komputer dalam bahasa Python untuk menentukan waktu yang diperlukan kancil untuk menyusul kura-kura dan tentukan jaraknya dari garis start. Data $V_1$, $V_2$, dan $k$ dimasukkan dengan perintah input. Ujilah program tersebut dengan data-data berikut:\n",
    "\n",
    "1. $V_1= 3$, $V_2=7$  , dan $k=10$\n",
    "2. $V_1= 3$, $V_2=3.1$, dan $k=10$\n",
    "3. $V_1= 3$, $V_2=3$  , dan $k=10$\n",
    "4. $V_1= 3$, $V_2=2.5$, dan $k=10$\n",
    "\n",
    "Dan tampilkan hasilnya dalam bentuk tabel sebagai berikut:\n",
    "\n",
    "```\n",
    "V kura2     V kancil     k     waktu bertemu     jarak bertemu\n",
    "   .            .        .          .                 .\n",
    "   .            .        .          .                 .\n",
    "   .            .        .          .                 .\n",
    "   .            .        .          .                 .\n",
    "\n",
    "```"
   ]
  },
  {
   "cell_type": "markdown",
   "metadata": {},
   "source": [
    "### Jawab\n",
    "\n",
    "Banyak cara untuk menyelesaikan masalah ini. Tentu, itu juga termasuk cara mengatasi masalah yang muncul jika ada kasus selain $V_2 \\geq V1 > 0$. Berikut adalah salah satu kode yang mungkin *dan saya pribadi sukai, karena tidak perlu berurusan dengan error*.\n",
    "\n",
    "Walaupun kita tidak dapat menggunakan `if else` untuk mengecek kasus yang valid dan yang tidak, kita masih dapat menggunakan sifat Boolean di Python. Di Python, tipe data `True` dan `False` setara dengan tipe data `1` dan `0`. Dengan demikian, kita dapat menuliskan\n",
    "\n",
    "```python\n",
    "if kondisi:\n",
    "    hasil = 100\n",
    "else:\n",
    "    hasil = -100\n",
    "```\n",
    "\n",
    "sebagai\n",
    "\n",
    "```python\n",
    "hasil = kondisi*100 + (not kondisi)*-100\n",
    "```"
   ]
  },
  {
   "cell_type": "code",
   "execution_count": 4,
   "metadata": {
    "id": "TMzkB9oxiMk7"
   },
   "outputs": [
    {
     "name": "stdout",
     "output_type": "stream",
     "text": [
      " V kura2  V kancil    k     waktu bertemu      jarak bertemu   \n",
      "    3         7      10          7.5                52.5       \n",
      "    3        3.1     10   299.9999999999997  929.9999999999991 \n",
      "    3         3      10          -1.0               -1.0       \n",
      "    3        2.5     10          -1.0               -1.0       \n"
     ]
    }
   ],
   "source": [
    "# PROGRAM soal2\n",
    "\n",
    "# anggap t sebagai waktu yang dibutuhkan untuk kancil menyusul\n",
    "# kura-kura. kita memiliki persamaan\n",
    "#   V1*k + V1*t  = V2*t\n",
    "#   V1*k/(V2-V1) = t\n",
    "# dan jarak bertemu dapat ditentukan dengan menghitung V2*t\n",
    "#\n",
    "# Dengan menggunakan boolean arithmetic di Python, program\n",
    "# akan menghasilkan waktu bertemu dan jarak bertemu kura-kura\n",
    "# dan kancil jika V2>V1. Dalam kasus lain, waktu bertemu dan\n",
    "# jarak bertemu akan diset -1.\n",
    "\n",
    "\n",
    "# VARIABEL\n",
    "V1 = 3   # kecepatan kura-kura\n",
    "k  = 10  # jeda start kura-kura dan kancil\n",
    "# formatting untuk tabel, silahkan lihat www.pyformat.info\n",
    "tabel = '{:^9} {:^9} {:^5} {:^18} {:^18}'\n",
    "\n",
    "\n",
    "# HITUNGAN PROGRAM\n",
    "print(tabel.format('V kura2', 'V kancil', 'k', 'waktu bertemu', 'jarak bertemu'))\n",
    "\n",
    "############# data1 ################\n",
    "V2 = 7   # kecepatan kancil\n",
    "\n",
    "# menghasilkan selisih kecepatan V2-V1 jika V2>V1,\n",
    "# selain itu akan menghasilkan -1\n",
    "selisih = (V2>V1)* (V2-V1) + (V2<=V1)* -1\n",
    "\n",
    "# menghasilkan waktu temu kura-kura dan kancil jika\n",
    "# selisih!=-1, selain itu akan menghasilkan -1\n",
    "waktu_temu = (selisih!=-1)* V1*k/selisih + (selisih==-1)* -1\n",
    "\n",
    "# menghasilkan jarak temu kura-kura dan kancil jika\n",
    "# selisih!=-1, selain itu akan menghasilkan -1\n",
    "jarak_temu = (selisih!=-1)* waktu_temu*V2 + (selisih==-1)* -1\n",
    "\n",
    "print(tabel.format(V1, V2, k, waktu_temu, jarak_temu))\n",
    "\n",
    "\n",
    "############# data2 ################\n",
    "V2 = 3.1\n",
    "# kode masih sama dengan bagian data1\n",
    "selisih = (V2>V1)* (V2-V1) + (V2<=V1)* -1\n",
    "waktu_temu = (selisih!=-1)* V1*k/selisih + (selisih==-1)* -1\n",
    "jarak_temu = (selisih!=-1)* waktu_temu*V2 + (selisih==-1)* -1\n",
    "print(tabel.format(V1, V2, k, waktu_temu, jarak_temu))\n",
    "\n",
    "############# data3 ################\n",
    "V2 = 3\n",
    "# kode masih sama dengan bagian data1\n",
    "selisih = (V2>V1)* (V2-V1) + (V2<=V1)* -1\n",
    "waktu_temu = (selisih!=-1)* V1*k/selisih + (selisih==-1)* -1\n",
    "jarak_temu = (selisih!=-1)* waktu_temu*V2 + (selisih==-1)* -1\n",
    "print(tabel.format(V1, V2, k, waktu_temu, jarak_temu))\n",
    "\n",
    "############# data4 ################\n",
    "V2 = 2.5\n",
    "# kode masih sama dengan bagian data1\n",
    "selisih = (V2>V1)* (V2-V1) + (V2<=V1)* -1\n",
    "waktu_temu = (selisih!=-1)* V1*k/selisih + (selisih==-1)* -1\n",
    "jarak_temu = (selisih!=-1)* waktu_temu*V2 + (selisih==-1)* -1\n",
    "print(tabel.format(V1, V2, k, waktu_temu, jarak_temu))\n"
   ]
  }
 ],
 "metadata": {
  "colab": {
   "name": "Praktikum 1 MA2151 Sikomat 2020",
   "provenance": []
  },
  "kernelspec": {
   "display_name": "Python 3",
   "language": "python",
   "name": "python3"
  },
  "language_info": {
   "codemirror_mode": {
    "name": "ipython",
    "version": 3
   },
   "file_extension": ".py",
   "mimetype": "text/x-python",
   "name": "python",
   "nbconvert_exporter": "python",
   "pygments_lexer": "ipython3",
   "version": "3.8.5"
  }
 },
 "nbformat": 4,
 "nbformat_minor": 1
}
